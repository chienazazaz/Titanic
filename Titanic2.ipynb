{
 "cells": [
  {
   "cell_type": "markdown",
   "metadata": {},
   "source": [
    "# Libraries"
   ]
  },
  {
   "cell_type": "markdown",
   "metadata": {},
   "source": [
    "normal libraries"
   ]
  },
  {
   "cell_type": "code",
   "execution_count": 1,
   "metadata": {},
   "outputs": [],
   "source": [
    "import numpy as np\n",
    "import pandas as pd\n",
    "import matplotlib.pyplot as plt\n",
    "import seaborn as sns\n",
    "sns.set(palette = 'hls', color_codes = True)\n",
    "import re"
   ]
  },
  {
   "cell_type": "markdown",
   "metadata": {},
   "source": [
    "classificasion models"
   ]
  },
  {
   "cell_type": "code",
   "execution_count": 2,
   "metadata": {},
   "outputs": [],
   "source": [
    "from sklearn.neighbors import KNeighborsRegressor\n",
    "from sklearn.neighbors import KNeighborsClassifier\n",
    "from sklearn.ensemble import RandomForestClassifier\n",
    "from sklearn.linear_model import LogisticRegression\n",
    "from sklearn.linear_model import SGDClassifier\n",
    "import tensorflow as tf"
   ]
  },
  {
   "cell_type": "code",
   "execution_count": 3,
   "metadata": {},
   "outputs": [],
   "source": [
    "from tensorflow.keras.wrappers.scikit_learn import KerasClassifier\n",
    "from sklearn.model_selection import GridSearchCV"
   ]
  },
  {
   "cell_type": "markdown",
   "metadata": {},
   "source": [
    "others"
   ]
  },
  {
   "cell_type": "code",
   "execution_count": 4,
   "metadata": {},
   "outputs": [],
   "source": [
    "from sklearn.neighbors import LocalOutlierFactor as LOF\n",
    "from sklearn.ensemble import IsolationForest\n",
    "import rrcf\n",
    "from sklearn import preprocessing"
   ]
  },
  {
   "cell_type": "markdown",
   "metadata": {},
   "source": [
    "# Import data"
   ]
  },
  {
   "cell_type": "code",
   "execution_count": 5,
   "metadata": {},
   "outputs": [
    {
     "name": "stdout",
     "output_type": "stream",
     "text": [
      "<class 'pandas.core.frame.DataFrame'>\n",
      "RangeIndex: 891 entries, 0 to 890\n",
      "Data columns (total 12 columns):\n",
      " #   Column       Non-Null Count  Dtype  \n",
      "---  ------       --------------  -----  \n",
      " 0   PassengerId  891 non-null    int64  \n",
      " 1   Survived     891 non-null    int64  \n",
      " 2   Pclass       891 non-null    int64  \n",
      " 3   Name         891 non-null    object \n",
      " 4   Sex          891 non-null    object \n",
      " 5   Age          714 non-null    float64\n",
      " 6   SibSp        891 non-null    int64  \n",
      " 7   Parch        891 non-null    int64  \n",
      " 8   Ticket       891 non-null    object \n",
      " 9   Fare         891 non-null    float64\n",
      " 10  Cabin        204 non-null    object \n",
      " 11  Embarked     889 non-null    object \n",
      "dtypes: float64(2), int64(5), object(5)\n",
      "memory usage: 83.7+ KB\n"
     ]
    }
   ],
   "source": [
    "train = pd.read_csv('train.csv')\n",
    "train.info()"
   ]
  },
  {
   "cell_type": "code",
   "execution_count": 6,
   "metadata": {},
   "outputs": [
    {
     "name": "stdout",
     "output_type": "stream",
     "text": [
      "<class 'pandas.core.frame.DataFrame'>\n",
      "RangeIndex: 418 entries, 0 to 417\n",
      "Data columns (total 11 columns):\n",
      " #   Column       Non-Null Count  Dtype  \n",
      "---  ------       --------------  -----  \n",
      " 0   PassengerId  418 non-null    int64  \n",
      " 1   Pclass       418 non-null    int64  \n",
      " 2   Name         418 non-null    object \n",
      " 3   Sex          418 non-null    object \n",
      " 4   Age          332 non-null    float64\n",
      " 5   SibSp        418 non-null    int64  \n",
      " 6   Parch        418 non-null    int64  \n",
      " 7   Ticket       418 non-null    object \n",
      " 8   Fare         417 non-null    float64\n",
      " 9   Cabin        91 non-null     object \n",
      " 10  Embarked     418 non-null    object \n",
      "dtypes: float64(2), int64(4), object(5)\n",
      "memory usage: 36.0+ KB\n"
     ]
    }
   ],
   "source": [
    "test = pd.read_csv('test.csv')\n",
    "test.info()"
   ]
  },
  {
   "cell_type": "markdown",
   "metadata": {},
   "source": [
    "<b> Problems </b>\n",
    "\n",
    "- mising data: Age, Cabin, Embarked"
   ]
  },
  {
   "cell_type": "markdown",
   "metadata": {},
   "source": [
    "# Explore"
   ]
  },
  {
   "cell_type": "code",
   "execution_count": 7,
   "metadata": {},
   "outputs": [
    {
     "data": {
      "text/html": [
       "<div>\n",
       "<style scoped>\n",
       "    .dataframe tbody tr th:only-of-type {\n",
       "        vertical-align: middle;\n",
       "    }\n",
       "\n",
       "    .dataframe tbody tr th {\n",
       "        vertical-align: top;\n",
       "    }\n",
       "\n",
       "    .dataframe thead th {\n",
       "        text-align: right;\n",
       "    }\n",
       "</style>\n",
       "<table border=\"1\" class=\"dataframe\">\n",
       "  <thead>\n",
       "    <tr style=\"text-align: right;\">\n",
       "      <th></th>\n",
       "      <th>PassengerId</th>\n",
       "      <th>Survived</th>\n",
       "      <th>Pclass</th>\n",
       "      <th>Name</th>\n",
       "      <th>Sex</th>\n",
       "      <th>Age</th>\n",
       "      <th>SibSp</th>\n",
       "      <th>Parch</th>\n",
       "      <th>Ticket</th>\n",
       "      <th>Fare</th>\n",
       "      <th>Cabin</th>\n",
       "      <th>Embarked</th>\n",
       "    </tr>\n",
       "  </thead>\n",
       "  <tbody>\n",
       "    <tr>\n",
       "      <th>count</th>\n",
       "      <td>891.000000</td>\n",
       "      <td>891.000000</td>\n",
       "      <td>891.000000</td>\n",
       "      <td>891</td>\n",
       "      <td>891</td>\n",
       "      <td>714.000000</td>\n",
       "      <td>891.000000</td>\n",
       "      <td>891.000000</td>\n",
       "      <td>891</td>\n",
       "      <td>891.000000</td>\n",
       "      <td>204</td>\n",
       "      <td>889</td>\n",
       "    </tr>\n",
       "    <tr>\n",
       "      <th>unique</th>\n",
       "      <td>NaN</td>\n",
       "      <td>NaN</td>\n",
       "      <td>NaN</td>\n",
       "      <td>891</td>\n",
       "      <td>2</td>\n",
       "      <td>NaN</td>\n",
       "      <td>NaN</td>\n",
       "      <td>NaN</td>\n",
       "      <td>681</td>\n",
       "      <td>NaN</td>\n",
       "      <td>147</td>\n",
       "      <td>3</td>\n",
       "    </tr>\n",
       "    <tr>\n",
       "      <th>top</th>\n",
       "      <td>NaN</td>\n",
       "      <td>NaN</td>\n",
       "      <td>NaN</td>\n",
       "      <td>Brown, Mrs. James Joseph (Margaret Tobin)</td>\n",
       "      <td>male</td>\n",
       "      <td>NaN</td>\n",
       "      <td>NaN</td>\n",
       "      <td>NaN</td>\n",
       "      <td>347082</td>\n",
       "      <td>NaN</td>\n",
       "      <td>G6</td>\n",
       "      <td>S</td>\n",
       "    </tr>\n",
       "    <tr>\n",
       "      <th>freq</th>\n",
       "      <td>NaN</td>\n",
       "      <td>NaN</td>\n",
       "      <td>NaN</td>\n",
       "      <td>1</td>\n",
       "      <td>577</td>\n",
       "      <td>NaN</td>\n",
       "      <td>NaN</td>\n",
       "      <td>NaN</td>\n",
       "      <td>7</td>\n",
       "      <td>NaN</td>\n",
       "      <td>4</td>\n",
       "      <td>644</td>\n",
       "    </tr>\n",
       "    <tr>\n",
       "      <th>mean</th>\n",
       "      <td>446.000000</td>\n",
       "      <td>0.383838</td>\n",
       "      <td>2.308642</td>\n",
       "      <td>NaN</td>\n",
       "      <td>NaN</td>\n",
       "      <td>29.699118</td>\n",
       "      <td>0.523008</td>\n",
       "      <td>0.381594</td>\n",
       "      <td>NaN</td>\n",
       "      <td>32.204208</td>\n",
       "      <td>NaN</td>\n",
       "      <td>NaN</td>\n",
       "    </tr>\n",
       "    <tr>\n",
       "      <th>std</th>\n",
       "      <td>257.353842</td>\n",
       "      <td>0.486592</td>\n",
       "      <td>0.836071</td>\n",
       "      <td>NaN</td>\n",
       "      <td>NaN</td>\n",
       "      <td>14.526497</td>\n",
       "      <td>1.102743</td>\n",
       "      <td>0.806057</td>\n",
       "      <td>NaN</td>\n",
       "      <td>49.693429</td>\n",
       "      <td>NaN</td>\n",
       "      <td>NaN</td>\n",
       "    </tr>\n",
       "    <tr>\n",
       "      <th>min</th>\n",
       "      <td>1.000000</td>\n",
       "      <td>0.000000</td>\n",
       "      <td>1.000000</td>\n",
       "      <td>NaN</td>\n",
       "      <td>NaN</td>\n",
       "      <td>0.420000</td>\n",
       "      <td>0.000000</td>\n",
       "      <td>0.000000</td>\n",
       "      <td>NaN</td>\n",
       "      <td>0.000000</td>\n",
       "      <td>NaN</td>\n",
       "      <td>NaN</td>\n",
       "    </tr>\n",
       "    <tr>\n",
       "      <th>25%</th>\n",
       "      <td>223.500000</td>\n",
       "      <td>0.000000</td>\n",
       "      <td>2.000000</td>\n",
       "      <td>NaN</td>\n",
       "      <td>NaN</td>\n",
       "      <td>20.125000</td>\n",
       "      <td>0.000000</td>\n",
       "      <td>0.000000</td>\n",
       "      <td>NaN</td>\n",
       "      <td>7.910400</td>\n",
       "      <td>NaN</td>\n",
       "      <td>NaN</td>\n",
       "    </tr>\n",
       "    <tr>\n",
       "      <th>50%</th>\n",
       "      <td>446.000000</td>\n",
       "      <td>0.000000</td>\n",
       "      <td>3.000000</td>\n",
       "      <td>NaN</td>\n",
       "      <td>NaN</td>\n",
       "      <td>28.000000</td>\n",
       "      <td>0.000000</td>\n",
       "      <td>0.000000</td>\n",
       "      <td>NaN</td>\n",
       "      <td>14.454200</td>\n",
       "      <td>NaN</td>\n",
       "      <td>NaN</td>\n",
       "    </tr>\n",
       "    <tr>\n",
       "      <th>75%</th>\n",
       "      <td>668.500000</td>\n",
       "      <td>1.000000</td>\n",
       "      <td>3.000000</td>\n",
       "      <td>NaN</td>\n",
       "      <td>NaN</td>\n",
       "      <td>38.000000</td>\n",
       "      <td>1.000000</td>\n",
       "      <td>0.000000</td>\n",
       "      <td>NaN</td>\n",
       "      <td>31.000000</td>\n",
       "      <td>NaN</td>\n",
       "      <td>NaN</td>\n",
       "    </tr>\n",
       "    <tr>\n",
       "      <th>max</th>\n",
       "      <td>891.000000</td>\n",
       "      <td>1.000000</td>\n",
       "      <td>3.000000</td>\n",
       "      <td>NaN</td>\n",
       "      <td>NaN</td>\n",
       "      <td>80.000000</td>\n",
       "      <td>8.000000</td>\n",
       "      <td>6.000000</td>\n",
       "      <td>NaN</td>\n",
       "      <td>512.329200</td>\n",
       "      <td>NaN</td>\n",
       "      <td>NaN</td>\n",
       "    </tr>\n",
       "  </tbody>\n",
       "</table>\n",
       "</div>"
      ],
      "text/plain": [
       "        PassengerId    Survived      Pclass  \\\n",
       "count    891.000000  891.000000  891.000000   \n",
       "unique          NaN         NaN         NaN   \n",
       "top             NaN         NaN         NaN   \n",
       "freq            NaN         NaN         NaN   \n",
       "mean     446.000000    0.383838    2.308642   \n",
       "std      257.353842    0.486592    0.836071   \n",
       "min        1.000000    0.000000    1.000000   \n",
       "25%      223.500000    0.000000    2.000000   \n",
       "50%      446.000000    0.000000    3.000000   \n",
       "75%      668.500000    1.000000    3.000000   \n",
       "max      891.000000    1.000000    3.000000   \n",
       "\n",
       "                                             Name   Sex         Age  \\\n",
       "count                                         891   891  714.000000   \n",
       "unique                                        891     2         NaN   \n",
       "top     Brown, Mrs. James Joseph (Margaret Tobin)  male         NaN   \n",
       "freq                                            1   577         NaN   \n",
       "mean                                          NaN   NaN   29.699118   \n",
       "std                                           NaN   NaN   14.526497   \n",
       "min                                           NaN   NaN    0.420000   \n",
       "25%                                           NaN   NaN   20.125000   \n",
       "50%                                           NaN   NaN   28.000000   \n",
       "75%                                           NaN   NaN   38.000000   \n",
       "max                                           NaN   NaN   80.000000   \n",
       "\n",
       "             SibSp       Parch  Ticket        Fare Cabin Embarked  \n",
       "count   891.000000  891.000000     891  891.000000   204      889  \n",
       "unique         NaN         NaN     681         NaN   147        3  \n",
       "top            NaN         NaN  347082         NaN    G6        S  \n",
       "freq           NaN         NaN       7         NaN     4      644  \n",
       "mean      0.523008    0.381594     NaN   32.204208   NaN      NaN  \n",
       "std       1.102743    0.806057     NaN   49.693429   NaN      NaN  \n",
       "min       0.000000    0.000000     NaN    0.000000   NaN      NaN  \n",
       "25%       0.000000    0.000000     NaN    7.910400   NaN      NaN  \n",
       "50%       0.000000    0.000000     NaN   14.454200   NaN      NaN  \n",
       "75%       1.000000    0.000000     NaN   31.000000   NaN      NaN  \n",
       "max       8.000000    6.000000     NaN  512.329200   NaN      NaN  "
      ]
     },
     "execution_count": 7,
     "metadata": {},
     "output_type": "execute_result"
    }
   ],
   "source": [
    "train.describe(include = 'all')"
   ]
  },
  {
   "cell_type": "markdown",
   "metadata": {},
   "source": [
    "The max Fare and SibSp, Parch is susspicious"
   ]
  },
  {
   "cell_type": "code",
   "execution_count": 8,
   "metadata": {},
   "outputs": [
    {
     "data": {
      "text/html": [
       "<div>\n",
       "<style scoped>\n",
       "    .dataframe tbody tr th:only-of-type {\n",
       "        vertical-align: middle;\n",
       "    }\n",
       "\n",
       "    .dataframe tbody tr th {\n",
       "        vertical-align: top;\n",
       "    }\n",
       "\n",
       "    .dataframe thead th {\n",
       "        text-align: right;\n",
       "    }\n",
       "</style>\n",
       "<table border=\"1\" class=\"dataframe\">\n",
       "  <thead>\n",
       "    <tr style=\"text-align: right;\">\n",
       "      <th></th>\n",
       "      <th>PassengerId</th>\n",
       "      <th>Pclass</th>\n",
       "      <th>Age</th>\n",
       "      <th>SibSp</th>\n",
       "      <th>Parch</th>\n",
       "      <th>Fare</th>\n",
       "    </tr>\n",
       "  </thead>\n",
       "  <tbody>\n",
       "    <tr>\n",
       "      <th>count</th>\n",
       "      <td>418.000000</td>\n",
       "      <td>418.000000</td>\n",
       "      <td>332.000000</td>\n",
       "      <td>418.000000</td>\n",
       "      <td>418.000000</td>\n",
       "      <td>417.000000</td>\n",
       "    </tr>\n",
       "    <tr>\n",
       "      <th>mean</th>\n",
       "      <td>1100.500000</td>\n",
       "      <td>2.265550</td>\n",
       "      <td>30.272590</td>\n",
       "      <td>0.447368</td>\n",
       "      <td>0.392344</td>\n",
       "      <td>35.627188</td>\n",
       "    </tr>\n",
       "    <tr>\n",
       "      <th>std</th>\n",
       "      <td>120.810458</td>\n",
       "      <td>0.841838</td>\n",
       "      <td>14.181209</td>\n",
       "      <td>0.896760</td>\n",
       "      <td>0.981429</td>\n",
       "      <td>55.907576</td>\n",
       "    </tr>\n",
       "    <tr>\n",
       "      <th>min</th>\n",
       "      <td>892.000000</td>\n",
       "      <td>1.000000</td>\n",
       "      <td>0.170000</td>\n",
       "      <td>0.000000</td>\n",
       "      <td>0.000000</td>\n",
       "      <td>0.000000</td>\n",
       "    </tr>\n",
       "    <tr>\n",
       "      <th>25%</th>\n",
       "      <td>996.250000</td>\n",
       "      <td>1.000000</td>\n",
       "      <td>21.000000</td>\n",
       "      <td>0.000000</td>\n",
       "      <td>0.000000</td>\n",
       "      <td>7.895800</td>\n",
       "    </tr>\n",
       "    <tr>\n",
       "      <th>50%</th>\n",
       "      <td>1100.500000</td>\n",
       "      <td>3.000000</td>\n",
       "      <td>27.000000</td>\n",
       "      <td>0.000000</td>\n",
       "      <td>0.000000</td>\n",
       "      <td>14.454200</td>\n",
       "    </tr>\n",
       "    <tr>\n",
       "      <th>75%</th>\n",
       "      <td>1204.750000</td>\n",
       "      <td>3.000000</td>\n",
       "      <td>39.000000</td>\n",
       "      <td>1.000000</td>\n",
       "      <td>0.000000</td>\n",
       "      <td>31.500000</td>\n",
       "    </tr>\n",
       "    <tr>\n",
       "      <th>max</th>\n",
       "      <td>1309.000000</td>\n",
       "      <td>3.000000</td>\n",
       "      <td>76.000000</td>\n",
       "      <td>8.000000</td>\n",
       "      <td>9.000000</td>\n",
       "      <td>512.329200</td>\n",
       "    </tr>\n",
       "  </tbody>\n",
       "</table>\n",
       "</div>"
      ],
      "text/plain": [
       "       PassengerId      Pclass         Age       SibSp       Parch        Fare\n",
       "count   418.000000  418.000000  332.000000  418.000000  418.000000  417.000000\n",
       "mean   1100.500000    2.265550   30.272590    0.447368    0.392344   35.627188\n",
       "std     120.810458    0.841838   14.181209    0.896760    0.981429   55.907576\n",
       "min     892.000000    1.000000    0.170000    0.000000    0.000000    0.000000\n",
       "25%     996.250000    1.000000   21.000000    0.000000    0.000000    7.895800\n",
       "50%    1100.500000    3.000000   27.000000    0.000000    0.000000   14.454200\n",
       "75%    1204.750000    3.000000   39.000000    1.000000    0.000000   31.500000\n",
       "max    1309.000000    3.000000   76.000000    8.000000    9.000000  512.329200"
      ]
     },
     "execution_count": 8,
     "metadata": {},
     "output_type": "execute_result"
    }
   ],
   "source": [
    "test.describe()"
   ]
  },
  {
   "cell_type": "markdown",
   "metadata": {},
   "source": [
    "must plot parch and sibsp and fare"
   ]
  },
  {
   "cell_type": "code",
   "execution_count": 9,
   "metadata": {},
   "outputs": [
    {
     "data": {
      "text/plain": [
       "<matplotlib.axes._subplots.AxesSubplot at 0x7fbac90b5970>"
      ]
     },
     "execution_count": 9,
     "metadata": {},
     "output_type": "execute_result"
    },
    {
     "data": {
      "image/png": "[encoded data removed]",
      "text/plain": [
       "<Figure size 432x288 with 1 Axes>"
      ]
     },
     "metadata": {},
     "output_type": "display_data"
    }
   ],
   "source": [
    "train['Pclass'].value_counts().sort_index().plot(kind = 'bar')"
   ]
  },
  {
   "cell_type": "code",
   "execution_count": 10,
   "metadata": {},
   "outputs": [
    {
     "data": {
      "text/plain": [
       "<seaborn.axisgrid.FacetGrid at 0x7fbac6fe8460>"
      ]
     },
     "execution_count": 10,
     "metadata": {},
     "output_type": "execute_result"
    },
    {
     "data": {
      "image/png": "[encoded data removed]",
      "text/plain": [
       "<Figure size 432x216 with 2 Axes>"
      ]
     },
     "metadata": {},
     "output_type": "display_data"
    }
   ],
   "source": [
    "pclass = sns.FacetGrid(train, col = 'Survived')\n",
    "pclass.map(plt.hist, 'Pclass', bins = 5)"
   ]
  },
  {
   "cell_type": "markdown",
   "metadata": {},
   "source": [
    "the lower Pclass, the higher the chance of survive"
   ]
  },
  {
   "cell_type": "code",
   "execution_count": 11,
   "metadata": {},
   "outputs": [
    {
     "data": {
      "text/plain": [
       "<matplotlib.axes._subplots.AxesSubplot at 0x7fbac6fa5520>"
      ]
     },
     "execution_count": 11,
     "metadata": {},
     "output_type": "execute_result"
    },
    {
     "data": {
      "image/png": "[encoded data removed]",
      "text/plain": [
       "<Figure size 432x288 with 1 Axes>"
      ]
     },
     "metadata": {},
     "output_type": "display_data"
    }
   ],
   "source": [
    "train['Sex'].value_counts().sort_index().plot(kind = 'bar')"
   ]
  },
  {
   "cell_type": "code",
   "execution_count": 12,
   "metadata": {},
   "outputs": [
    {
     "data": {
      "text/plain": [
       "<seaborn.axisgrid.FacetGrid at 0x7fbac55dafa0>"
      ]
     },
     "execution_count": 12,
     "metadata": {},
     "output_type": "execute_result"
    },
    {
     "data": {
      "image/png": "[encoded data removed]",
      "text/plain": [
       "<Figure size 432x216 with 2 Axes>"
      ]
     },
     "metadata": {},
     "output_type": "display_data"
    }
   ],
   "source": [
    "sex = sns.FacetGrid(train, col = 'Survived')\n",
    "sex.map(plt.hist, 'Sex', bins =10)"
   ]
  },
  {
   "cell_type": "markdown",
   "metadata": {},
   "source": [
    "female has higher chance to survive than male passengers, hmmm"
   ]
  },
  {
   "cell_type": "code",
   "execution_count": 13,
   "metadata": {},
   "outputs": [
    {
     "data": {
      "text/plain": [
       "<matplotlib.collections.PathCollection at 0x7fbac54b4df0>"
      ]
     },
     "execution_count": 13,
     "metadata": {},
     "output_type": "execute_result"
    },
    {
     "data": {
      "image/png": "[encoded data removed]",
      "text/plain": [
       "<Figure size 432x288 with 1 Axes>"
      ]
     },
     "metadata": {},
     "output_type": "display_data"
    }
   ],
   "source": [
    "plt.scatter(train['Age'], train['Survived'])"
   ]
  },
  {
   "cell_type": "markdown",
   "metadata": {},
   "source": [
    "the younger have better chance to survive\n",
    "\n",
    "those people who are at their 30s or 40s are at the hand of luck?"
   ]
  },
  {
   "cell_type": "code",
   "execution_count": 14,
   "metadata": {},
   "outputs": [
    {
     "data": {
      "text/plain": [
       "<seaborn.axisgrid.FacetGrid at 0x7fbac5475ac0>"
      ]
     },
     "execution_count": 14,
     "metadata": {},
     "output_type": "execute_result"
    },
    {
     "data": {
      "image/png": "[encoded data removed]",
      "text/plain": [
       "<Figure size 432x216 with 2 Axes>"
      ]
     },
     "metadata": {},
     "output_type": "display_data"
    }
   ],
   "source": [
    "age = sns.FacetGrid(train, col = 'Survived')\n",
    "age.map(plt.hist, 'Age', bins = 20)"
   ]
  },
  {
   "cell_type": "code",
   "execution_count": 15,
   "metadata": {},
   "outputs": [
    {
     "data": {
      "text/plain": [
       "<seaborn.axisgrid.FacetGrid at 0x7fbac5464fa0>"
      ]
     },
     "execution_count": 15,
     "metadata": {},
     "output_type": "execute_result"
    },
    {
     "data": {
      "image/png": "[encoded data removed]",
      "text/plain": [
       "<Figure size 432x648 with 6 Axes>"
      ]
     },
     "metadata": {},
     "output_type": "display_data"
    }
   ],
   "source": [
    "embarked = sns.FacetGrid(train, col = 'Survived', row = 'Embarked', row_order = ['C','S', 'Q'], palette = 'bright')\n",
    "embarked.map(plt.hist,'Embarked', bins = 10)"
   ]
  },
  {
   "cell_type": "markdown",
   "metadata": {},
   "source": [
    "people embarked from S has higher chance of survive, others seems to be equal"
   ]
  },
  {
   "cell_type": "code",
   "execution_count": 16,
   "metadata": {},
   "outputs": [
    {
     "data": {
      "text/plain": [
       "<seaborn.axisgrid.FacetGrid at 0x7fbac5188430>"
      ]
     },
     "execution_count": 16,
     "metadata": {},
     "output_type": "execute_result"
    },
    {
     "data": {
      "image/png": "[encoded data removed]",
      "text/plain": [
       "<Figure size 432x216 with 2 Axes>"
      ]
     },
     "metadata": {},
     "output_type": "display_data"
    }
   ],
   "source": [
    "fare = sns.FacetGrid(train, col = 'Survived')\n",
    "fare.map(plt.hist, 'Fare', bins = 10)"
   ]
  },
  {
   "cell_type": "markdown",
   "metadata": {},
   "source": [
    "does fare has any influence to people chance of survive?"
   ]
  },
  {
   "cell_type": "code",
   "execution_count": 17,
   "metadata": {},
   "outputs": [],
   "source": [
    "combine = [train, test]\n",
    "for dataset in combine:\n",
    "    dataset['familysize'] = dataset['SibSp']+dataset['Parch']+1"
   ]
  },
  {
   "cell_type": "code",
   "execution_count": 18,
   "metadata": {},
   "outputs": [
    {
     "data": {
      "text/plain": [
       "<seaborn.axisgrid.FacetGrid at 0x7fbb2c5e5be0>"
      ]
     },
     "execution_count": 18,
     "metadata": {},
     "output_type": "execute_result"
    },
    {
     "data": {
      "image/png": "[encoded data removed]",
      "text/plain": [
       "<Figure size 432x216 with 2 Axes>"
      ]
     },
     "metadata": {},
     "output_type": "display_data"
    }
   ],
   "source": [
    "familysize = sns.FacetGrid(train, col = 'Survived')\n",
    "familysize.map(plt.hist, 'familysize', bins = 10)"
   ]
  },
  {
   "cell_type": "markdown",
   "metadata": {},
   "source": [
    "those who travel alone probably die, those who has a large family suffer such condition"
   ]
  },
  {
   "cell_type": "code",
   "execution_count": 19,
   "metadata": {},
   "outputs": [
    {
     "data": {
      "text/plain": [
       "<matplotlib.axes._subplots.AxesSubplot at 0x7fbac5095340>"
      ]
     },
     "execution_count": 19,
     "metadata": {},
     "output_type": "execute_result"
    },
    {
     "data": {
      "image/png": "[encoded data removed]",
      "text/plain": [
       "<Figure size 432x288 with 1 Axes>"
      ]
     },
     "metadata": {},
     "output_type": "display_data"
    }
   ],
   "source": [
    "train['familysize'].value_counts().plot()"
   ]
  },
  {
   "cell_type": "markdown",
   "metadata": {},
   "source": [
    "most people travel alone, is that why more people die?\n",
    "\n",
    "this look like exponential (using log?) with some outliners, should pay attention to that"
   ]
  },
  {
   "cell_type": "code",
   "execution_count": 20,
   "metadata": {},
   "outputs": [
    {
     "data": {
      "text/plain": [
       "<matplotlib.axes._subplots.AxesSubplot at 0x7fbac501b7f0>"
      ]
     },
     "execution_count": 20,
     "metadata": {},
     "output_type": "execute_result"
    },
    {
     "data": {
      "image/png": "[encoded data removed]",
      "text/plain": [
       "<Figure size 432x288 with 1 Axes>"
      ]
     },
     "metadata": {},
     "output_type": "display_data"
    }
   ],
   "source": [
    "train['Survived'].value_counts().plot(kind = 'bar')"
   ]
  },
  {
   "cell_type": "markdown",
   "metadata": {},
   "source": [
    "more of them to be dead than alive"
   ]
  },
  {
   "cell_type": "markdown",
   "metadata": {},
   "source": [
    "After sometime spend digging on ticket, 1 number is the pclass, letter is somewhat important\n",
    "\n",
    "Some people have the same ticket number hence must divide their fare"
   ]
  },
  {
   "cell_type": "code",
   "execution_count": 21,
   "metadata": {},
   "outputs": [
    {
     "data": {
      "text/html": [
       "<div>\n",
       "<style scoped>\n",
       "    .dataframe tbody tr th:only-of-type {\n",
       "        vertical-align: middle;\n",
       "    }\n",
       "\n",
       "    .dataframe tbody tr th {\n",
       "        vertical-align: top;\n",
       "    }\n",
       "\n",
       "    .dataframe thead th {\n",
       "        text-align: right;\n",
       "    }\n",
       "</style>\n",
       "<table border=\"1\" class=\"dataframe\">\n",
       "  <thead>\n",
       "    <tr style=\"text-align: right;\">\n",
       "      <th></th>\n",
       "      <th>PassengerId</th>\n",
       "      <th>Survived</th>\n",
       "      <th>Pclass</th>\n",
       "      <th>Name</th>\n",
       "      <th>Sex</th>\n",
       "      <th>Age</th>\n",
       "      <th>SibSp</th>\n",
       "      <th>Parch</th>\n",
       "      <th>Ticket</th>\n",
       "      <th>Fare</th>\n",
       "      <th>Cabin</th>\n",
       "      <th>Embarked</th>\n",
       "      <th>familysize</th>\n",
       "    </tr>\n",
       "  </thead>\n",
       "  <tbody>\n",
       "    <tr>\n",
       "      <th>27</th>\n",
       "      <td>28</td>\n",
       "      <td>0</td>\n",
       "      <td>1</td>\n",
       "      <td>Fortune, Mr. Charles Alexander</td>\n",
       "      <td>male</td>\n",
       "      <td>19.0</td>\n",
       "      <td>3</td>\n",
       "      <td>2</td>\n",
       "      <td>19950</td>\n",
       "      <td>263.0000</td>\n",
       "      <td>C23 C25 C27</td>\n",
       "      <td>S</td>\n",
       "      <td>6</td>\n",
       "    </tr>\n",
       "    <tr>\n",
       "      <th>88</th>\n",
       "      <td>89</td>\n",
       "      <td>1</td>\n",
       "      <td>1</td>\n",
       "      <td>Fortune, Miss. Mabel Helen</td>\n",
       "      <td>female</td>\n",
       "      <td>23.0</td>\n",
       "      <td>3</td>\n",
       "      <td>2</td>\n",
       "      <td>19950</td>\n",
       "      <td>263.0000</td>\n",
       "      <td>C23 C25 C27</td>\n",
       "      <td>S</td>\n",
       "      <td>6</td>\n",
       "    </tr>\n",
       "    <tr>\n",
       "      <th>258</th>\n",
       "      <td>259</td>\n",
       "      <td>1</td>\n",
       "      <td>1</td>\n",
       "      <td>Ward, Miss. Anna</td>\n",
       "      <td>female</td>\n",
       "      <td>35.0</td>\n",
       "      <td>0</td>\n",
       "      <td>0</td>\n",
       "      <td>PC 17755</td>\n",
       "      <td>512.3292</td>\n",
       "      <td>NaN</td>\n",
       "      <td>C</td>\n",
       "      <td>1</td>\n",
       "    </tr>\n",
       "    <tr>\n",
       "      <th>311</th>\n",
       "      <td>312</td>\n",
       "      <td>1</td>\n",
       "      <td>1</td>\n",
       "      <td>Ryerson, Miss. Emily Borie</td>\n",
       "      <td>female</td>\n",
       "      <td>18.0</td>\n",
       "      <td>2</td>\n",
       "      <td>2</td>\n",
       "      <td>PC 17608</td>\n",
       "      <td>262.3750</td>\n",
       "      <td>B57 B59 B63 B66</td>\n",
       "      <td>C</td>\n",
       "      <td>5</td>\n",
       "    </tr>\n",
       "    <tr>\n",
       "      <th>341</th>\n",
       "      <td>342</td>\n",
       "      <td>1</td>\n",
       "      <td>1</td>\n",
       "      <td>Fortune, Miss. Alice Elizabeth</td>\n",
       "      <td>female</td>\n",
       "      <td>24.0</td>\n",
       "      <td>3</td>\n",
       "      <td>2</td>\n",
       "      <td>19950</td>\n",
       "      <td>263.0000</td>\n",
       "      <td>C23 C25 C27</td>\n",
       "      <td>S</td>\n",
       "      <td>6</td>\n",
       "    </tr>\n",
       "    <tr>\n",
       "      <th>438</th>\n",
       "      <td>439</td>\n",
       "      <td>0</td>\n",
       "      <td>1</td>\n",
       "      <td>Fortune, Mr. Mark</td>\n",
       "      <td>male</td>\n",
       "      <td>64.0</td>\n",
       "      <td>1</td>\n",
       "      <td>4</td>\n",
       "      <td>19950</td>\n",
       "      <td>263.0000</td>\n",
       "      <td>C23 C25 C27</td>\n",
       "      <td>S</td>\n",
       "      <td>6</td>\n",
       "    </tr>\n",
       "    <tr>\n",
       "      <th>679</th>\n",
       "      <td>680</td>\n",
       "      <td>1</td>\n",
       "      <td>1</td>\n",
       "      <td>Cardeza, Mr. Thomas Drake Martinez</td>\n",
       "      <td>male</td>\n",
       "      <td>36.0</td>\n",
       "      <td>0</td>\n",
       "      <td>1</td>\n",
       "      <td>PC 17755</td>\n",
       "      <td>512.3292</td>\n",
       "      <td>B51 B53 B55</td>\n",
       "      <td>C</td>\n",
       "      <td>2</td>\n",
       "    </tr>\n",
       "    <tr>\n",
       "      <th>737</th>\n",
       "      <td>738</td>\n",
       "      <td>1</td>\n",
       "      <td>1</td>\n",
       "      <td>Lesurer, Mr. Gustave J</td>\n",
       "      <td>male</td>\n",
       "      <td>35.0</td>\n",
       "      <td>0</td>\n",
       "      <td>0</td>\n",
       "      <td>PC 17755</td>\n",
       "      <td>512.3292</td>\n",
       "      <td>B101</td>\n",
       "      <td>C</td>\n",
       "      <td>1</td>\n",
       "    </tr>\n",
       "    <tr>\n",
       "      <th>742</th>\n",
       "      <td>743</td>\n",
       "      <td>1</td>\n",
       "      <td>1</td>\n",
       "      <td>Ryerson, Miss. Susan Parker \"Suzette\"</td>\n",
       "      <td>female</td>\n",
       "      <td>21.0</td>\n",
       "      <td>2</td>\n",
       "      <td>2</td>\n",
       "      <td>PC 17608</td>\n",
       "      <td>262.3750</td>\n",
       "      <td>B57 B59 B63 B66</td>\n",
       "      <td>C</td>\n",
       "      <td>5</td>\n",
       "    </tr>\n",
       "  </tbody>\n",
       "</table>\n",
       "</div>"
      ],
      "text/plain": [
       "     PassengerId  Survived  Pclass                                   Name  \\\n",
       "27            28         0       1         Fortune, Mr. Charles Alexander   \n",
       "88            89         1       1             Fortune, Miss. Mabel Helen   \n",
       "258          259         1       1                       Ward, Miss. Anna   \n",
       "311          312         1       1             Ryerson, Miss. Emily Borie   \n",
       "341          342         1       1         Fortune, Miss. Alice Elizabeth   \n",
       "438          439         0       1                      Fortune, Mr. Mark   \n",
       "679          680         1       1     Cardeza, Mr. Thomas Drake Martinez   \n",
       "737          738         1       1                 Lesurer, Mr. Gustave J   \n",
       "742          743         1       1  Ryerson, Miss. Susan Parker \"Suzette\"   \n",
       "\n",
       "        Sex   Age  SibSp  Parch    Ticket      Fare            Cabin Embarked  \\\n",
       "27     male  19.0      3      2     19950  263.0000      C23 C25 C27        S   \n",
       "88   female  23.0      3      2     19950  263.0000      C23 C25 C27        S   \n",
       "258  female  35.0      0      0  PC 17755  512.3292              NaN        C   \n",
       "311  female  18.0      2      2  PC 17608  262.3750  B57 B59 B63 B66        C   \n",
       "341  female  24.0      3      2     19950  263.0000      C23 C25 C27        S   \n",
       "438    male  64.0      1      4     19950  263.0000      C23 C25 C27        S   \n",
       "679    male  36.0      0      1  PC 17755  512.3292      B51 B53 B55        C   \n",
       "737    male  35.0      0      0  PC 17755  512.3292             B101        C   \n",
       "742  female  21.0      2      2  PC 17608  262.3750  B57 B59 B63 B66        C   \n",
       "\n",
       "     familysize  \n",
       "27            6  \n",
       "88            6  \n",
       "258           1  \n",
       "311           5  \n",
       "341           6  \n",
       "438           6  \n",
       "679           2  \n",
       "737           1  \n",
       "742           5  "
      ]
     },
     "execution_count": 21,
     "metadata": {},
     "output_type": "execute_result"
    }
   ],
   "source": [
    "train[train['Fare']>250]"
   ]
  },
  {
   "cell_type": "markdown",
   "metadata": {},
   "source": [
    "# clensing\n",
    "\n",
    "- remove duplicates\n",
    "- fill missing values\n",
    "- check if values are real\n",
    "- detect anomalies"
   ]
  },
  {
   "cell_type": "markdown",
   "metadata": {},
   "source": [
    "### Name\n",
    "extract last name, title for later on"
   ]
  },
  {
   "cell_type": "code",
   "execution_count": 22,
   "metadata": {},
   "outputs": [
    {
     "data": {
      "text/html": [
       "<div>\n",
       "<style scoped>\n",
       "    .dataframe tbody tr th:only-of-type {\n",
       "        vertical-align: middle;\n",
       "    }\n",
       "\n",
       "    .dataframe tbody tr th {\n",
       "        vertical-align: top;\n",
       "    }\n",
       "\n",
       "    .dataframe thead th {\n",
       "        text-align: right;\n",
       "    }\n",
       "</style>\n",
       "<table border=\"1\" class=\"dataframe\">\n",
       "  <thead>\n",
       "    <tr style=\"text-align: right;\">\n",
       "      <th></th>\n",
       "      <th>PassengerId</th>\n",
       "      <th>Pclass</th>\n",
       "      <th>Name</th>\n",
       "      <th>Sex</th>\n",
       "      <th>Age</th>\n",
       "      <th>SibSp</th>\n",
       "      <th>Parch</th>\n",
       "      <th>Ticket</th>\n",
       "      <th>Fare</th>\n",
       "      <th>Cabin</th>\n",
       "      <th>Embarked</th>\n",
       "      <th>familysize</th>\n",
       "      <th>Title</th>\n",
       "    </tr>\n",
       "  </thead>\n",
       "  <tbody>\n",
       "    <tr>\n",
       "      <th>0</th>\n",
       "      <td>892</td>\n",
       "      <td>3</td>\n",
       "      <td>Kelly, Mr. James</td>\n",
       "      <td>male</td>\n",
       "      <td>34.5</td>\n",
       "      <td>0</td>\n",
       "      <td>0</td>\n",
       "      <td>330911</td>\n",
       "      <td>7.8292</td>\n",
       "      <td>NaN</td>\n",
       "      <td>Q</td>\n",
       "      <td>1</td>\n",
       "      <td>Mr</td>\n",
       "    </tr>\n",
       "    <tr>\n",
       "      <th>1</th>\n",
       "      <td>893</td>\n",
       "      <td>3</td>\n",
       "      <td>Wilkes, Mrs. James (Ellen Needs)</td>\n",
       "      <td>female</td>\n",
       "      <td>47.0</td>\n",
       "      <td>1</td>\n",
       "      <td>0</td>\n",
       "      <td>363272</td>\n",
       "      <td>7.0000</td>\n",
       "      <td>NaN</td>\n",
       "      <td>S</td>\n",
       "      <td>2</td>\n",
       "      <td>Mrs</td>\n",
       "    </tr>\n",
       "    <tr>\n",
       "      <th>2</th>\n",
       "      <td>894</td>\n",
       "      <td>2</td>\n",
       "      <td>Myles, Mr. Thomas Francis</td>\n",
       "      <td>male</td>\n",
       "      <td>62.0</td>\n",
       "      <td>0</td>\n",
       "      <td>0</td>\n",
       "      <td>240276</td>\n",
       "      <td>9.6875</td>\n",
       "      <td>NaN</td>\n",
       "      <td>Q</td>\n",
       "      <td>1</td>\n",
       "      <td>Mr</td>\n",
       "    </tr>\n",
       "    <tr>\n",
       "      <th>3</th>\n",
       "      <td>895</td>\n",
       "      <td>3</td>\n",
       "      <td>Wirz, Mr. Albert</td>\n",
       "      <td>male</td>\n",
       "      <td>27.0</td>\n",
       "      <td>0</td>\n",
       "      <td>0</td>\n",
       "      <td>315154</td>\n",
       "      <td>8.6625</td>\n",
       "      <td>NaN</td>\n",
       "      <td>S</td>\n",
       "      <td>1</td>\n",
       "      <td>Mr</td>\n",
       "    </tr>\n",
       "    <tr>\n",
       "      <th>4</th>\n",
       "      <td>896</td>\n",
       "      <td>3</td>\n",
       "      <td>Hirvonen, Mrs. Alexander (Helga E Lindqvist)</td>\n",
       "      <td>female</td>\n",
       "      <td>22.0</td>\n",
       "      <td>1</td>\n",
       "      <td>1</td>\n",
       "      <td>3101298</td>\n",
       "      <td>12.2875</td>\n",
       "      <td>NaN</td>\n",
       "      <td>S</td>\n",
       "      <td>3</td>\n",
       "      <td>Mrs</td>\n",
       "    </tr>\n",
       "  </tbody>\n",
       "</table>\n",
       "</div>"
      ],
      "text/plain": [
       "   PassengerId  Pclass                                          Name     Sex  \\\n",
       "0          892       3                              Kelly, Mr. James    male   \n",
       "1          893       3              Wilkes, Mrs. James (Ellen Needs)  female   \n",
       "2          894       2                     Myles, Mr. Thomas Francis    male   \n",
       "3          895       3                              Wirz, Mr. Albert    male   \n",
       "4          896       3  Hirvonen, Mrs. Alexander (Helga E Lindqvist)  female   \n",
       "\n",
       "    Age  SibSp  Parch   Ticket     Fare Cabin Embarked  familysize Title  \n",
       "0  34.5      0      0   330911   7.8292   NaN        Q           1    Mr  \n",
       "1  47.0      1      0   363272   7.0000   NaN        S           2   Mrs  \n",
       "2  62.0      0      0   240276   9.6875   NaN        Q           1    Mr  \n",
       "3  27.0      0      0   315154   8.6625   NaN        S           1    Mr  \n",
       "4  22.0      1      1  3101298  12.2875   NaN        S           3   Mrs  "
      ]
     },
     "execution_count": 22,
     "metadata": {},
     "output_type": "execute_result"
    }
   ],
   "source": [
    "for dataset in combine:\n",
    "    Title = []\n",
    "    for x in range(len(dataset['Name'])):\n",
    "        Title.append(re.findall(r\"([A-Za-z]+)\\.\", dataset['Name'][x])[0])\n",
    "    dataset['Title'] = Title\n",
    "test.head()"
   ]
  },
  {
   "cell_type": "code",
   "execution_count": 23,
   "metadata": {},
   "outputs": [
    {
     "data": {
      "text/html": [
       "<div>\n",
       "<style scoped>\n",
       "    .dataframe tbody tr th:only-of-type {\n",
       "        vertical-align: middle;\n",
       "    }\n",
       "\n",
       "    .dataframe tbody tr th {\n",
       "        vertical-align: top;\n",
       "    }\n",
       "\n",
       "    .dataframe thead th {\n",
       "        text-align: right;\n",
       "    }\n",
       "</style>\n",
       "<table border=\"1\" class=\"dataframe\">\n",
       "  <thead>\n",
       "    <tr style=\"text-align: right;\">\n",
       "      <th></th>\n",
       "      <th>PassengerId</th>\n",
       "      <th>Pclass</th>\n",
       "      <th>Name</th>\n",
       "      <th>Sex</th>\n",
       "      <th>Age</th>\n",
       "      <th>SibSp</th>\n",
       "      <th>Parch</th>\n",
       "      <th>Ticket</th>\n",
       "      <th>Fare</th>\n",
       "      <th>Cabin</th>\n",
       "      <th>Embarked</th>\n",
       "      <th>familysize</th>\n",
       "      <th>Title</th>\n",
       "      <th>lastname</th>\n",
       "    </tr>\n",
       "  </thead>\n",
       "  <tbody>\n",
       "    <tr>\n",
       "      <th>0</th>\n",
       "      <td>892</td>\n",
       "      <td>3</td>\n",
       "      <td>Kelly, Mr. James</td>\n",
       "      <td>male</td>\n",
       "      <td>34.5</td>\n",
       "      <td>0</td>\n",
       "      <td>0</td>\n",
       "      <td>330911</td>\n",
       "      <td>7.8292</td>\n",
       "      <td>NaN</td>\n",
       "      <td>Q</td>\n",
       "      <td>1</td>\n",
       "      <td>Mr</td>\n",
       "      <td>Kelly</td>\n",
       "    </tr>\n",
       "    <tr>\n",
       "      <th>1</th>\n",
       "      <td>893</td>\n",
       "      <td>3</td>\n",
       "      <td>Wilkes, Mrs. James (Ellen Needs)</td>\n",
       "      <td>female</td>\n",
       "      <td>47.0</td>\n",
       "      <td>1</td>\n",
       "      <td>0</td>\n",
       "      <td>363272</td>\n",
       "      <td>7.0000</td>\n",
       "      <td>NaN</td>\n",
       "      <td>S</td>\n",
       "      <td>2</td>\n",
       "      <td>Mrs</td>\n",
       "      <td>Wilkes</td>\n",
       "    </tr>\n",
       "    <tr>\n",
       "      <th>2</th>\n",
       "      <td>894</td>\n",
       "      <td>2</td>\n",
       "      <td>Myles, Mr. Thomas Francis</td>\n",
       "      <td>male</td>\n",
       "      <td>62.0</td>\n",
       "      <td>0</td>\n",
       "      <td>0</td>\n",
       "      <td>240276</td>\n",
       "      <td>9.6875</td>\n",
       "      <td>NaN</td>\n",
       "      <td>Q</td>\n",
       "      <td>1</td>\n",
       "      <td>Mr</td>\n",
       "      <td>Myles</td>\n",
       "    </tr>\n",
       "    <tr>\n",
       "      <th>3</th>\n",
       "      <td>895</td>\n",
       "      <td>3</td>\n",
       "      <td>Wirz, Mr. Albert</td>\n",
       "      <td>male</td>\n",
       "      <td>27.0</td>\n",
       "      <td>0</td>\n",
       "      <td>0</td>\n",
       "      <td>315154</td>\n",
       "      <td>8.6625</td>\n",
       "      <td>NaN</td>\n",
       "      <td>S</td>\n",
       "      <td>1</td>\n",
       "      <td>Mr</td>\n",
       "      <td>Wirz</td>\n",
       "    </tr>\n",
       "    <tr>\n",
       "      <th>4</th>\n",
       "      <td>896</td>\n",
       "      <td>3</td>\n",
       "      <td>Hirvonen, Mrs. Alexander (Helga E Lindqvist)</td>\n",
       "      <td>female</td>\n",
       "      <td>22.0</td>\n",
       "      <td>1</td>\n",
       "      <td>1</td>\n",
       "      <td>3101298</td>\n",
       "      <td>12.2875</td>\n",
       "      <td>NaN</td>\n",
       "      <td>S</td>\n",
       "      <td>3</td>\n",
       "      <td>Mrs</td>\n",
       "      <td>Hirvonen</td>\n",
       "    </tr>\n",
       "  </tbody>\n",
       "</table>\n",
       "</div>"
      ],
      "text/plain": [
       "   PassengerId  Pclass                                          Name     Sex  \\\n",
       "0          892       3                              Kelly, Mr. James    male   \n",
       "1          893       3              Wilkes, Mrs. James (Ellen Needs)  female   \n",
       "2          894       2                     Myles, Mr. Thomas Francis    male   \n",
       "3          895       3                              Wirz, Mr. Albert    male   \n",
       "4          896       3  Hirvonen, Mrs. Alexander (Helga E Lindqvist)  female   \n",
       "\n",
       "    Age  SibSp  Parch   Ticket     Fare Cabin Embarked  familysize Title  \\\n",
       "0  34.5      0      0   330911   7.8292   NaN        Q           1    Mr   \n",
       "1  47.0      1      0   363272   7.0000   NaN        S           2   Mrs   \n",
       "2  62.0      0      0   240276   9.6875   NaN        Q           1    Mr   \n",
       "3  27.0      0      0   315154   8.6625   NaN        S           1    Mr   \n",
       "4  22.0      1      1  3101298  12.2875   NaN        S           3   Mrs   \n",
       "\n",
       "   lastname  \n",
       "0     Kelly  \n",
       "1    Wilkes  \n",
       "2     Myles  \n",
       "3      Wirz  \n",
       "4  Hirvonen  "
      ]
     },
     "execution_count": 23,
     "metadata": {},
     "output_type": "execute_result"
    }
   ],
   "source": [
    "for dataset in combine:\n",
    "    lastname = []\n",
    "    for x in range(len(dataset['Name'])):\n",
    "        lastname.append(re.findall(r\"([A-Za-z]+)\\,\", dataset['Name'][x])[0])\n",
    "    dataset['lastname'] = lastname\n",
    "test.head()"
   ]
  },
  {
   "cell_type": "markdown",
   "metadata": {},
   "source": [
    "### Ticket, Fare and cabin\n",
    "\n",
    "those has same ticket should have the same cabin"
   ]
  },
  {
   "cell_type": "code",
   "execution_count": 24,
   "metadata": {},
   "outputs": [],
   "source": [
    "for dataset in combine:\n",
    "    ticketcount = dataset['Ticket'].value_counts()\n",
    "    uniqueticket = dataset['Ticket'].unique()\n",
    "    for x in range(len(uniqueticket)):\n",
    "        dataset.loc[(dataset[\"Ticket\"] == uniqueticket[x]), 'Cabin'] = dataset.loc[(dataset[\"Ticket\"] == uniqueticket[x]), 'Cabin'].replace()"
   ]
  },
  {
   "cell_type": "code",
   "execution_count": 25,
   "metadata": {},
   "outputs": [
    {
     "name": "stdout",
     "output_type": "stream",
     "text": [
      "<class 'pandas.core.frame.DataFrame'>\n",
      "RangeIndex: 891 entries, 0 to 890\n",
      "Data columns (total 15 columns):\n",
      " #   Column       Non-Null Count  Dtype  \n",
      "---  ------       --------------  -----  \n",
      " 0   PassengerId  891 non-null    int64  \n",
      " 1   Survived     891 non-null    int64  \n",
      " 2   Pclass       891 non-null    int64  \n",
      " 3   Name         891 non-null    object \n",
      " 4   Sex          891 non-null    object \n",
      " 5   Age          714 non-null    float64\n",
      " 6   SibSp        891 non-null    int64  \n",
      " 7   Parch        891 non-null    int64  \n",
      " 8   Ticket       891 non-null    object \n",
      " 9   Fare         891 non-null    float64\n",
      " 10  Cabin        209 non-null    object \n",
      " 11  Embarked     889 non-null    object \n",
      " 12  familysize   891 non-null    int64  \n",
      " 13  Title        891 non-null    object \n",
      " 14  lastname     891 non-null    object \n",
      "dtypes: float64(2), int64(6), object(7)\n",
      "memory usage: 104.5+ KB\n"
     ]
    }
   ],
   "source": [
    "train.info()"
   ]
  },
  {
   "cell_type": "markdown",
   "metadata": {},
   "source": [
    "#### conclusion\n",
    "\n",
    "- no duplicated values\n",
    "- train set: missing values in embarked, age and cabin\n",
    "- test set: missing values in age, fare, cabin\n",
    "- the research show that the fare at 500 pound is not unreal, so acceptable\n",
    "- family size is considering\n",
    "- will drop cabin temporaly"
   ]
  },
  {
   "cell_type": "code",
   "execution_count": 26,
   "metadata": {},
   "outputs": [],
   "source": [
    "for dataset in combine:\n",
    "    dataset['Sex'] = dataset['Sex'].map({'female': 0,'male':1})\n",
    "    dataset = dataset.drop(['Cabin','lastname','Name','SibSp','Parch','Ticket'], axis = 1, inplace = True)\n",
    "    "
   ]
  },
  {
   "cell_type": "markdown",
   "metadata": {},
   "source": [
    "fill up age in train dataset, the age should base on sex, familysize, maybe title too\n",
    "- need to map sex to 1s and 0s"
   ]
  },
  {
   "cell_type": "code",
   "execution_count": 27,
   "metadata": {},
   "outputs": [
    {
     "data": {
      "text/plain": [
       "array(['Mr', 'Mrs', 'Miss', 'Master', 'Don', 'Rev', 'Dr', 'Mme', 'Ms',\n",
       "       'Major', 'Lady', 'Sir', 'Mlle', 'Col', 'Capt', 'Countess',\n",
       "       'Jonkheer'], dtype=object)"
      ]
     },
     "execution_count": 27,
     "metadata": {},
     "output_type": "execute_result"
    }
   ],
   "source": [
    "train['Title'].unique()"
   ]
  },
  {
   "cell_type": "code",
   "execution_count": 28,
   "metadata": {},
   "outputs": [
    {
     "data": {
      "text/plain": [
       "array(['Mr', 'Mrs', 'Miss', 'Master', 'Ms', 'Col', 'Rev', 'Dr', 'Dona'],\n",
       "      dtype=object)"
      ]
     },
     "execution_count": 28,
     "metadata": {},
     "output_type": "execute_result"
    }
   ],
   "source": [
    "test['Title'].unique()"
   ]
  },
  {
   "cell_type": "code",
   "execution_count": 29,
   "metadata": {},
   "outputs": [],
   "source": [
    "for df in combine:\n",
    "    df['Title'] = df['Title'].replace(['Ms','Miss','Mme','Mlle','Dona'], 'Ms')"
   ]
  },
  {
   "cell_type": "code",
   "execution_count": 30,
   "metadata": {},
   "outputs": [],
   "source": [
    "for dataset in combine:\n",
    "    dataset['Age'] = dataset.groupby(['Sex', 'Title'])['Age'].apply(lambda x: x.fillna(x.median()))\n",
    "    dataset['Age'] = dataset['Age'].astype(int)"
   ]
  },
  {
   "cell_type": "markdown",
   "metadata": {},
   "source": [
    "fill up embarked (train), fare(test)"
   ]
  },
  {
   "cell_type": "code",
   "execution_count": 31,
   "metadata": {},
   "outputs": [],
   "source": [
    "train['Embarked'] = train['Embarked'].fillna('S')"
   ]
  },
  {
   "cell_type": "code",
   "execution_count": 32,
   "metadata": {},
   "outputs": [],
   "source": [
    "test['Fare'] = test.groupby(['Pclass','Embarked'])['Fare'].apply(lambda x: x.fillna(x.mean()))"
   ]
  },
  {
   "cell_type": "markdown",
   "metadata": {},
   "source": [
    "- format the data (text to ordinal)\n",
    "- detect anomalies\n",
    "- done cleansing"
   ]
  },
  {
   "cell_type": "code",
   "execution_count": 33,
   "metadata": {},
   "outputs": [
    {
     "data": {
      "text/plain": [
       "Mr          517\n",
       "Ms          186\n",
       "Mrs         125\n",
       "Master       40\n",
       "Dr            7\n",
       "Rev           6\n",
       "Col           2\n",
       "Major         2\n",
       "Countess      1\n",
       "Sir           1\n",
       "Capt          1\n",
       "Jonkheer      1\n",
       "Don           1\n",
       "Lady          1\n",
       "Name: Title, dtype: int64"
      ]
     },
     "execution_count": 33,
     "metadata": {},
     "output_type": "execute_result"
    }
   ],
   "source": [
    "train['Title'].value_counts()"
   ]
  },
  {
   "cell_type": "code",
   "execution_count": 34,
   "metadata": {},
   "outputs": [
    {
     "data": {
      "text/plain": [
       "Mr        240\n",
       "Ms         80\n",
       "Mrs        72\n",
       "Master     21\n",
       "Col         2\n",
       "Rev         2\n",
       "Dr          1\n",
       "Name: Title, dtype: int64"
      ]
     },
     "execution_count": 34,
     "metadata": {},
     "output_type": "execute_result"
    }
   ],
   "source": [
    "test['Title'].value_counts()"
   ]
  },
  {
   "cell_type": "code",
   "execution_count": 35,
   "metadata": {},
   "outputs": [],
   "source": [
    "for df in combine:\n",
    "    df['Embarked'] = df['Embarked'].map({'S':0, 'C':1, 'Q':2})\n",
    "    df['Title'] = df['Title'].replace('Mr', 0)\n",
    "    df['Title'] = df['Title'].replace(['Master','Ms','Mrs'],1)\n",
    "    df['Title'] = df['Title'].replace(['Dr', 'Rev','Col','Major','Sir','Countess','Capt','Lady','Jonkheer','Don'],2)"
   ]
  },
  {
   "cell_type": "code",
   "execution_count": 36,
   "metadata": {},
   "outputs": [
    {
     "data": {
      "text/html": [
       "<div>\n",
       "<style scoped>\n",
       "    .dataframe tbody tr th:only-of-type {\n",
       "        vertical-align: middle;\n",
       "    }\n",
       "\n",
       "    .dataframe tbody tr th {\n",
       "        vertical-align: top;\n",
       "    }\n",
       "\n",
       "    .dataframe thead th {\n",
       "        text-align: right;\n",
       "    }\n",
       "</style>\n",
       "<table border=\"1\" class=\"dataframe\">\n",
       "  <thead>\n",
       "    <tr style=\"text-align: right;\">\n",
       "      <th></th>\n",
       "      <th>PassengerId</th>\n",
       "      <th>Survived</th>\n",
       "      <th>Pclass</th>\n",
       "      <th>Sex</th>\n",
       "      <th>Age</th>\n",
       "      <th>Fare</th>\n",
       "      <th>Embarked</th>\n",
       "      <th>familysize</th>\n",
       "      <th>Title</th>\n",
       "    </tr>\n",
       "  </thead>\n",
       "  <tbody>\n",
       "    <tr>\n",
       "      <th>0</th>\n",
       "      <td>1</td>\n",
       "      <td>0</td>\n",
       "      <td>3</td>\n",
       "      <td>1</td>\n",
       "      <td>22</td>\n",
       "      <td>7.2500</td>\n",
       "      <td>0</td>\n",
       "      <td>2</td>\n",
       "      <td>0</td>\n",
       "    </tr>\n",
       "    <tr>\n",
       "      <th>1</th>\n",
       "      <td>2</td>\n",
       "      <td>1</td>\n",
       "      <td>1</td>\n",
       "      <td>0</td>\n",
       "      <td>38</td>\n",
       "      <td>71.2833</td>\n",
       "      <td>1</td>\n",
       "      <td>2</td>\n",
       "      <td>1</td>\n",
       "    </tr>\n",
       "    <tr>\n",
       "      <th>2</th>\n",
       "      <td>3</td>\n",
       "      <td>1</td>\n",
       "      <td>3</td>\n",
       "      <td>0</td>\n",
       "      <td>26</td>\n",
       "      <td>7.9250</td>\n",
       "      <td>0</td>\n",
       "      <td>1</td>\n",
       "      <td>1</td>\n",
       "    </tr>\n",
       "    <tr>\n",
       "      <th>3</th>\n",
       "      <td>4</td>\n",
       "      <td>1</td>\n",
       "      <td>1</td>\n",
       "      <td>0</td>\n",
       "      <td>35</td>\n",
       "      <td>53.1000</td>\n",
       "      <td>0</td>\n",
       "      <td>2</td>\n",
       "      <td>1</td>\n",
       "    </tr>\n",
       "    <tr>\n",
       "      <th>4</th>\n",
       "      <td>5</td>\n",
       "      <td>0</td>\n",
       "      <td>3</td>\n",
       "      <td>1</td>\n",
       "      <td>35</td>\n",
       "      <td>8.0500</td>\n",
       "      <td>0</td>\n",
       "      <td>1</td>\n",
       "      <td>0</td>\n",
       "    </tr>\n",
       "  </tbody>\n",
       "</table>\n",
       "</div>"
      ],
      "text/plain": [
       "   PassengerId  Survived  Pclass  Sex  Age     Fare  Embarked  familysize  \\\n",
       "0            1         0       3    1   22   7.2500         0           2   \n",
       "1            2         1       1    0   38  71.2833         1           2   \n",
       "2            3         1       3    0   26   7.9250         0           1   \n",
       "3            4         1       1    0   35  53.1000         0           2   \n",
       "4            5         0       3    1   35   8.0500         0           1   \n",
       "\n",
       "   Title  \n",
       "0      0  \n",
       "1      1  \n",
       "2      1  \n",
       "3      1  \n",
       "4      0  "
      ]
     },
     "execution_count": 36,
     "metadata": {},
     "output_type": "execute_result"
    }
   ],
   "source": [
    "train.head()"
   ]
  },
  {
   "cell_type": "markdown",
   "metadata": {},
   "source": [
    "detect anomalies"
   ]
  },
  {
   "cell_type": "code",
   "execution_count": 37,
   "metadata": {},
   "outputs": [
    {
     "data": {
      "text/plain": [
       "<matplotlib.axes._subplots.AxesSubplot at 0x7fbac4f80430>"
      ]
     },
     "execution_count": 37,
     "metadata": {},
     "output_type": "execute_result"
    },
    {
     "data": {
      "image/png": "[encoded data removed]",
      "text/plain": [
       "<Figure size 432x288 with 1 Axes>"
      ]
     },
     "metadata": {},
     "output_type": "display_data"
    }
   ],
   "source": [
    "sns.boxplot(x = 'Pclass', y = 'Age', data = train, hue = 'Survived')"
   ]
  },
  {
   "cell_type": "code",
   "execution_count": 38,
   "metadata": {},
   "outputs": [
    {
     "data": {
      "text/plain": [
       "<matplotlib.axes._subplots.AxesSubplot at 0x7fbac4e7dc70>"
      ]
     },
     "execution_count": 38,
     "metadata": {},
     "output_type": "execute_result"
    },
    {
     "data": {
      "image/png": "[encoded data removed]",
      "text/plain": [
       "<Figure size 432x288 with 1 Axes>"
      ]
     },
     "metadata": {},
     "output_type": "display_data"
    }
   ],
   "source": [
    "sns.boxplot(x = 'Sex', y = 'Age', data = train, hue = 'Survived')"
   ]
  },
  {
   "cell_type": "code",
   "execution_count": 39,
   "metadata": {},
   "outputs": [],
   "source": [
    "for df in combine:\n",
    "    IF = IsolationForest(n_estimators = 50, contamination = 0.1, max_features = 3)\n",
    "    IF.fit(df[['Pclass', 'Age', 'Sex','Fare','Embarked','familysize','Title']])\n",
    "    df['outlinerIF'] = IF.predict(df[['Pclass', 'Age', 'Sex','Fare','Embarked','familysize','Title']])"
   ]
  },
  {
   "cell_type": "code",
   "execution_count": 40,
   "metadata": {},
   "outputs": [],
   "source": [
    "for df in combine:\n",
    "    lof = LOF(n_neighbors = 20, contamination = 0.1)\n",
    "    df['outlinerLOF'] = lof.fit_predict(df[['Pclass', 'Age', 'Sex','Fare','Embarked','familysize','Title']])"
   ]
  },
  {
   "cell_type": "code",
   "execution_count": 41,
   "metadata": {},
   "outputs": [],
   "source": [
    "for df in combine:\n",
    "    df['anomalies'] = df['outlinerIF'] + df['outlinerLOF']\n",
    "    df.loc[df.anomalies == 0, 'anomalies'] = 1\n",
    "    df.loc[df.anomalies == 2, 'anomalies'] = 0\n",
    "    df.loc[df.anomalies == -2, 'anomalies'] = 2\n",
    "    df = df.drop(['outlinerIF','outlinerLOF'], axis =1, inplace = True)"
   ]
  },
  {
   "cell_type": "markdown",
   "metadata": {},
   "source": [
    "## Balancing"
   ]
  },
  {
   "cell_type": "code",
   "execution_count": 42,
   "metadata": {},
   "outputs": [],
   "source": [
    "input_unscale = train[['Pclass', 'Age', 'Sex','Fare','Embarked','familysize','Title','anomalies']]\n",
    "target = train['Survived']"
   ]
  },
  {
   "cell_type": "code",
   "execution_count": 43,
   "metadata": {},
   "outputs": [
    {
     "data": {
      "text/html": [
       "<div>\n",
       "<style scoped>\n",
       "    .dataframe tbody tr th:only-of-type {\n",
       "        vertical-align: middle;\n",
       "    }\n",
       "\n",
       "    .dataframe tbody tr th {\n",
       "        vertical-align: top;\n",
       "    }\n",
       "\n",
       "    .dataframe thead th {\n",
       "        text-align: right;\n",
       "    }\n",
       "</style>\n",
       "<table border=\"1\" class=\"dataframe\">\n",
       "  <thead>\n",
       "    <tr style=\"text-align: right;\">\n",
       "      <th></th>\n",
       "      <th>Pclass</th>\n",
       "      <th>Age</th>\n",
       "      <th>Sex</th>\n",
       "      <th>Fare</th>\n",
       "      <th>Embarked</th>\n",
       "      <th>familysize</th>\n",
       "      <th>Title</th>\n",
       "      <th>anomalies</th>\n",
       "    </tr>\n",
       "  </thead>\n",
       "  <tbody>\n",
       "    <tr>\n",
       "      <th>0</th>\n",
       "      <td>3</td>\n",
       "      <td>22</td>\n",
       "      <td>1</td>\n",
       "      <td>7.2500</td>\n",
       "      <td>0</td>\n",
       "      <td>2</td>\n",
       "      <td>0</td>\n",
       "      <td>0</td>\n",
       "    </tr>\n",
       "    <tr>\n",
       "      <th>1</th>\n",
       "      <td>1</td>\n",
       "      <td>38</td>\n",
       "      <td>0</td>\n",
       "      <td>71.2833</td>\n",
       "      <td>1</td>\n",
       "      <td>2</td>\n",
       "      <td>1</td>\n",
       "      <td>0</td>\n",
       "    </tr>\n",
       "    <tr>\n",
       "      <th>2</th>\n",
       "      <td>3</td>\n",
       "      <td>26</td>\n",
       "      <td>0</td>\n",
       "      <td>7.9250</td>\n",
       "      <td>0</td>\n",
       "      <td>1</td>\n",
       "      <td>1</td>\n",
       "      <td>0</td>\n",
       "    </tr>\n",
       "    <tr>\n",
       "      <th>3</th>\n",
       "      <td>1</td>\n",
       "      <td>35</td>\n",
       "      <td>0</td>\n",
       "      <td>53.1000</td>\n",
       "      <td>0</td>\n",
       "      <td>2</td>\n",
       "      <td>1</td>\n",
       "      <td>0</td>\n",
       "    </tr>\n",
       "    <tr>\n",
       "      <th>4</th>\n",
       "      <td>3</td>\n",
       "      <td>35</td>\n",
       "      <td>1</td>\n",
       "      <td>8.0500</td>\n",
       "      <td>0</td>\n",
       "      <td>1</td>\n",
       "      <td>0</td>\n",
       "      <td>0</td>\n",
       "    </tr>\n",
       "    <tr>\n",
       "      <th>...</th>\n",
       "      <td>...</td>\n",
       "      <td>...</td>\n",
       "      <td>...</td>\n",
       "      <td>...</td>\n",
       "      <td>...</td>\n",
       "      <td>...</td>\n",
       "      <td>...</td>\n",
       "      <td>...</td>\n",
       "    </tr>\n",
       "    <tr>\n",
       "      <th>886</th>\n",
       "      <td>2</td>\n",
       "      <td>27</td>\n",
       "      <td>1</td>\n",
       "      <td>13.0000</td>\n",
       "      <td>0</td>\n",
       "      <td>1</td>\n",
       "      <td>2</td>\n",
       "      <td>0</td>\n",
       "    </tr>\n",
       "    <tr>\n",
       "      <th>887</th>\n",
       "      <td>1</td>\n",
       "      <td>19</td>\n",
       "      <td>0</td>\n",
       "      <td>30.0000</td>\n",
       "      <td>0</td>\n",
       "      <td>1</td>\n",
       "      <td>1</td>\n",
       "      <td>0</td>\n",
       "    </tr>\n",
       "    <tr>\n",
       "      <th>888</th>\n",
       "      <td>3</td>\n",
       "      <td>21</td>\n",
       "      <td>0</td>\n",
       "      <td>23.4500</td>\n",
       "      <td>0</td>\n",
       "      <td>4</td>\n",
       "      <td>1</td>\n",
       "      <td>0</td>\n",
       "    </tr>\n",
       "    <tr>\n",
       "      <th>889</th>\n",
       "      <td>1</td>\n",
       "      <td>26</td>\n",
       "      <td>1</td>\n",
       "      <td>30.0000</td>\n",
       "      <td>1</td>\n",
       "      <td>1</td>\n",
       "      <td>0</td>\n",
       "      <td>0</td>\n",
       "    </tr>\n",
       "    <tr>\n",
       "      <th>890</th>\n",
       "      <td>3</td>\n",
       "      <td>32</td>\n",
       "      <td>1</td>\n",
       "      <td>7.7500</td>\n",
       "      <td>2</td>\n",
       "      <td>1</td>\n",
       "      <td>0</td>\n",
       "      <td>1</td>\n",
       "    </tr>\n",
       "  </tbody>\n",
       "</table>\n",
       "<p>891 rows × 8 columns</p>\n",
       "</div>"
      ],
      "text/plain": [
       "     Pclass  Age  Sex     Fare  Embarked  familysize  Title  anomalies\n",
       "0         3   22    1   7.2500         0           2      0          0\n",
       "1         1   38    0  71.2833         1           2      1          0\n",
       "2         3   26    0   7.9250         0           1      1          0\n",
       "3         1   35    0  53.1000         0           2      1          0\n",
       "4         3   35    1   8.0500         0           1      0          0\n",
       "..      ...  ...  ...      ...       ...         ...    ...        ...\n",
       "886       2   27    1  13.0000         0           1      2          0\n",
       "887       1   19    0  30.0000         0           1      1          0\n",
       "888       3   21    0  23.4500         0           4      1          0\n",
       "889       1   26    1  30.0000         1           1      0          0\n",
       "890       3   32    1   7.7500         2           1      0          1\n",
       "\n",
       "[891 rows x 8 columns]"
      ]
     },
     "execution_count": 43,
     "metadata": {},
     "output_type": "execute_result"
    }
   ],
   "source": [
    "input_unscale"
   ]
  },
  {
   "cell_type": "code",
   "execution_count": 44,
   "metadata": {},
   "outputs": [],
   "source": [
    "num_ones = train['Survived'].value_counts()[1]\n",
    "zeros_counter = 0\n",
    "indices_to_remove = []\n",
    "\n",
    "for i in range(target.shape[0]):\n",
    "    if target[i] == 0:\n",
    "        zeros_counter +=1\n",
    "        if zeros_counter > num_ones:\n",
    "            indices_to_remove.append(i)\n",
    "\n",
    "equal_unscale_input = input_unscale.drop(indices_to_remove, axis = 0)\n",
    "equal_target = target.drop(indices_to_remove, axis = 0)"
   ]
  },
  {
   "cell_type": "code",
   "execution_count": 45,
   "metadata": {},
   "outputs": [
    {
     "data": {
      "text/html": [
       "<div>\n",
       "<style scoped>\n",
       "    .dataframe tbody tr th:only-of-type {\n",
       "        vertical-align: middle;\n",
       "    }\n",
       "\n",
       "    .dataframe tbody tr th {\n",
       "        vertical-align: top;\n",
       "    }\n",
       "\n",
       "    .dataframe thead th {\n",
       "        text-align: right;\n",
       "    }\n",
       "</style>\n",
       "<table border=\"1\" class=\"dataframe\">\n",
       "  <thead>\n",
       "    <tr style=\"text-align: right;\">\n",
       "      <th></th>\n",
       "      <th>Pclass</th>\n",
       "      <th>Age</th>\n",
       "      <th>Sex</th>\n",
       "      <th>Fare</th>\n",
       "      <th>Embarked</th>\n",
       "      <th>familysize</th>\n",
       "      <th>Title</th>\n",
       "      <th>anomalies</th>\n",
       "    </tr>\n",
       "  </thead>\n",
       "  <tbody>\n",
       "    <tr>\n",
       "      <th>0</th>\n",
       "      <td>3</td>\n",
       "      <td>22</td>\n",
       "      <td>1</td>\n",
       "      <td>7.2500</td>\n",
       "      <td>0</td>\n",
       "      <td>2</td>\n",
       "      <td>0</td>\n",
       "      <td>0</td>\n",
       "    </tr>\n",
       "    <tr>\n",
       "      <th>1</th>\n",
       "      <td>1</td>\n",
       "      <td>38</td>\n",
       "      <td>0</td>\n",
       "      <td>71.2833</td>\n",
       "      <td>1</td>\n",
       "      <td>2</td>\n",
       "      <td>1</td>\n",
       "      <td>0</td>\n",
       "    </tr>\n",
       "    <tr>\n",
       "      <th>2</th>\n",
       "      <td>3</td>\n",
       "      <td>26</td>\n",
       "      <td>0</td>\n",
       "      <td>7.9250</td>\n",
       "      <td>0</td>\n",
       "      <td>1</td>\n",
       "      <td>1</td>\n",
       "      <td>0</td>\n",
       "    </tr>\n",
       "    <tr>\n",
       "      <th>3</th>\n",
       "      <td>1</td>\n",
       "      <td>35</td>\n",
       "      <td>0</td>\n",
       "      <td>53.1000</td>\n",
       "      <td>0</td>\n",
       "      <td>2</td>\n",
       "      <td>1</td>\n",
       "      <td>0</td>\n",
       "    </tr>\n",
       "    <tr>\n",
       "      <th>4</th>\n",
       "      <td>3</td>\n",
       "      <td>35</td>\n",
       "      <td>1</td>\n",
       "      <td>8.0500</td>\n",
       "      <td>0</td>\n",
       "      <td>1</td>\n",
       "      <td>0</td>\n",
       "      <td>0</td>\n",
       "    </tr>\n",
       "    <tr>\n",
       "      <th>...</th>\n",
       "      <td>...</td>\n",
       "      <td>...</td>\n",
       "      <td>...</td>\n",
       "      <td>...</td>\n",
       "      <td>...</td>\n",
       "      <td>...</td>\n",
       "      <td>...</td>\n",
       "      <td>...</td>\n",
       "    </tr>\n",
       "    <tr>\n",
       "      <th>875</th>\n",
       "      <td>3</td>\n",
       "      <td>15</td>\n",
       "      <td>0</td>\n",
       "      <td>7.2250</td>\n",
       "      <td>1</td>\n",
       "      <td>1</td>\n",
       "      <td>1</td>\n",
       "      <td>0</td>\n",
       "    </tr>\n",
       "    <tr>\n",
       "      <th>879</th>\n",
       "      <td>1</td>\n",
       "      <td>56</td>\n",
       "      <td>0</td>\n",
       "      <td>83.1583</td>\n",
       "      <td>1</td>\n",
       "      <td>2</td>\n",
       "      <td>1</td>\n",
       "      <td>1</td>\n",
       "    </tr>\n",
       "    <tr>\n",
       "      <th>880</th>\n",
       "      <td>2</td>\n",
       "      <td>25</td>\n",
       "      <td>0</td>\n",
       "      <td>26.0000</td>\n",
       "      <td>0</td>\n",
       "      <td>2</td>\n",
       "      <td>1</td>\n",
       "      <td>0</td>\n",
       "    </tr>\n",
       "    <tr>\n",
       "      <th>887</th>\n",
       "      <td>1</td>\n",
       "      <td>19</td>\n",
       "      <td>0</td>\n",
       "      <td>30.0000</td>\n",
       "      <td>0</td>\n",
       "      <td>1</td>\n",
       "      <td>1</td>\n",
       "      <td>0</td>\n",
       "    </tr>\n",
       "    <tr>\n",
       "      <th>889</th>\n",
       "      <td>1</td>\n",
       "      <td>26</td>\n",
       "      <td>1</td>\n",
       "      <td>30.0000</td>\n",
       "      <td>1</td>\n",
       "      <td>1</td>\n",
       "      <td>0</td>\n",
       "      <td>0</td>\n",
       "    </tr>\n",
       "  </tbody>\n",
       "</table>\n",
       "<p>684 rows × 8 columns</p>\n",
       "</div>"
      ],
      "text/plain": [
       "     Pclass  Age  Sex     Fare  Embarked  familysize  Title  anomalies\n",
       "0         3   22    1   7.2500         0           2      0          0\n",
       "1         1   38    0  71.2833         1           2      1          0\n",
       "2         3   26    0   7.9250         0           1      1          0\n",
       "3         1   35    0  53.1000         0           2      1          0\n",
       "4         3   35    1   8.0500         0           1      0          0\n",
       "..      ...  ...  ...      ...       ...         ...    ...        ...\n",
       "875       3   15    0   7.2250         1           1      1          0\n",
       "879       1   56    0  83.1583         1           2      1          1\n",
       "880       2   25    0  26.0000         0           2      1          0\n",
       "887       1   19    0  30.0000         0           1      1          0\n",
       "889       1   26    1  30.0000         1           1      0          0\n",
       "\n",
       "[684 rows x 8 columns]"
      ]
     },
     "execution_count": 45,
     "metadata": {},
     "output_type": "execute_result"
    }
   ],
   "source": [
    "equal_unscale_input"
   ]
  },
  {
   "cell_type": "code",
   "execution_count": 46,
   "metadata": {},
   "outputs": [
    {
     "data": {
      "text/html": [
       "<div>\n",
       "<style scoped>\n",
       "    .dataframe tbody tr th:only-of-type {\n",
       "        vertical-align: middle;\n",
       "    }\n",
       "\n",
       "    .dataframe tbody tr th {\n",
       "        vertical-align: top;\n",
       "    }\n",
       "\n",
       "    .dataframe thead th {\n",
       "        text-align: right;\n",
       "    }\n",
       "</style>\n",
       "<table border=\"1\" class=\"dataframe\">\n",
       "  <thead>\n",
       "    <tr style=\"text-align: right;\">\n",
       "      <th></th>\n",
       "      <th>PassengerId</th>\n",
       "      <th>Pclass</th>\n",
       "      <th>Sex</th>\n",
       "      <th>Age</th>\n",
       "      <th>Fare</th>\n",
       "      <th>Embarked</th>\n",
       "      <th>familysize</th>\n",
       "      <th>Title</th>\n",
       "      <th>anomalies</th>\n",
       "    </tr>\n",
       "  </thead>\n",
       "  <tbody>\n",
       "    <tr>\n",
       "      <th>0</th>\n",
       "      <td>892</td>\n",
       "      <td>3</td>\n",
       "      <td>1</td>\n",
       "      <td>34</td>\n",
       "      <td>7.8292</td>\n",
       "      <td>2</td>\n",
       "      <td>1</td>\n",
       "      <td>0</td>\n",
       "      <td>1</td>\n",
       "    </tr>\n",
       "    <tr>\n",
       "      <th>1</th>\n",
       "      <td>893</td>\n",
       "      <td>3</td>\n",
       "      <td>0</td>\n",
       "      <td>47</td>\n",
       "      <td>7.0000</td>\n",
       "      <td>0</td>\n",
       "      <td>2</td>\n",
       "      <td>1</td>\n",
       "      <td>0</td>\n",
       "    </tr>\n",
       "    <tr>\n",
       "      <th>2</th>\n",
       "      <td>894</td>\n",
       "      <td>2</td>\n",
       "      <td>1</td>\n",
       "      <td>62</td>\n",
       "      <td>9.6875</td>\n",
       "      <td>2</td>\n",
       "      <td>1</td>\n",
       "      <td>0</td>\n",
       "      <td>2</td>\n",
       "    </tr>\n",
       "    <tr>\n",
       "      <th>3</th>\n",
       "      <td>895</td>\n",
       "      <td>3</td>\n",
       "      <td>1</td>\n",
       "      <td>27</td>\n",
       "      <td>8.6625</td>\n",
       "      <td>0</td>\n",
       "      <td>1</td>\n",
       "      <td>0</td>\n",
       "      <td>0</td>\n",
       "    </tr>\n",
       "    <tr>\n",
       "      <th>4</th>\n",
       "      <td>896</td>\n",
       "      <td>3</td>\n",
       "      <td>0</td>\n",
       "      <td>22</td>\n",
       "      <td>12.2875</td>\n",
       "      <td>0</td>\n",
       "      <td>3</td>\n",
       "      <td>1</td>\n",
       "      <td>0</td>\n",
       "    </tr>\n",
       "    <tr>\n",
       "      <th>...</th>\n",
       "      <td>...</td>\n",
       "      <td>...</td>\n",
       "      <td>...</td>\n",
       "      <td>...</td>\n",
       "      <td>...</td>\n",
       "      <td>...</td>\n",
       "      <td>...</td>\n",
       "      <td>...</td>\n",
       "      <td>...</td>\n",
       "    </tr>\n",
       "    <tr>\n",
       "      <th>413</th>\n",
       "      <td>1305</td>\n",
       "      <td>3</td>\n",
       "      <td>1</td>\n",
       "      <td>28</td>\n",
       "      <td>8.0500</td>\n",
       "      <td>0</td>\n",
       "      <td>1</td>\n",
       "      <td>0</td>\n",
       "      <td>0</td>\n",
       "    </tr>\n",
       "    <tr>\n",
       "      <th>414</th>\n",
       "      <td>1306</td>\n",
       "      <td>1</td>\n",
       "      <td>0</td>\n",
       "      <td>39</td>\n",
       "      <td>108.9000</td>\n",
       "      <td>1</td>\n",
       "      <td>1</td>\n",
       "      <td>1</td>\n",
       "      <td>1</td>\n",
       "    </tr>\n",
       "    <tr>\n",
       "      <th>415</th>\n",
       "      <td>1307</td>\n",
       "      <td>3</td>\n",
       "      <td>1</td>\n",
       "      <td>38</td>\n",
       "      <td>7.2500</td>\n",
       "      <td>0</td>\n",
       "      <td>1</td>\n",
       "      <td>0</td>\n",
       "      <td>0</td>\n",
       "    </tr>\n",
       "    <tr>\n",
       "      <th>416</th>\n",
       "      <td>1308</td>\n",
       "      <td>3</td>\n",
       "      <td>1</td>\n",
       "      <td>28</td>\n",
       "      <td>8.0500</td>\n",
       "      <td>0</td>\n",
       "      <td>1</td>\n",
       "      <td>0</td>\n",
       "      <td>0</td>\n",
       "    </tr>\n",
       "    <tr>\n",
       "      <th>417</th>\n",
       "      <td>1309</td>\n",
       "      <td>3</td>\n",
       "      <td>1</td>\n",
       "      <td>7</td>\n",
       "      <td>22.3583</td>\n",
       "      <td>1</td>\n",
       "      <td>3</td>\n",
       "      <td>1</td>\n",
       "      <td>0</td>\n",
       "    </tr>\n",
       "  </tbody>\n",
       "</table>\n",
       "<p>418 rows × 9 columns</p>\n",
       "</div>"
      ],
      "text/plain": [
       "     PassengerId  Pclass  Sex  Age      Fare  Embarked  familysize  Title  \\\n",
       "0            892       3    1   34    7.8292         2           1      0   \n",
       "1            893       3    0   47    7.0000         0           2      1   \n",
       "2            894       2    1   62    9.6875         2           1      0   \n",
       "3            895       3    1   27    8.6625         0           1      0   \n",
       "4            896       3    0   22   12.2875         0           3      1   \n",
       "..           ...     ...  ...  ...       ...       ...         ...    ...   \n",
       "413         1305       3    1   28    8.0500         0           1      0   \n",
       "414         1306       1    0   39  108.9000         1           1      1   \n",
       "415         1307       3    1   38    7.2500         0           1      0   \n",
       "416         1308       3    1   28    8.0500         0           1      0   \n",
       "417         1309       3    1    7   22.3583         1           3      1   \n",
       "\n",
       "     anomalies  \n",
       "0            1  \n",
       "1            0  \n",
       "2            2  \n",
       "3            0  \n",
       "4            0  \n",
       "..         ...  \n",
       "413          0  \n",
       "414          1  \n",
       "415          0  \n",
       "416          0  \n",
       "417          0  \n",
       "\n",
       "[418 rows x 9 columns]"
      ]
     },
     "execution_count": 46,
     "metadata": {},
     "output_type": "execute_result"
    }
   ],
   "source": [
    "test"
   ]
  },
  {
   "cell_type": "markdown",
   "metadata": {},
   "source": [
    "## preprocessing"
   ]
  },
  {
   "cell_type": "code",
   "execution_count": 47,
   "metadata": {},
   "outputs": [],
   "source": [
    "scaled_input = preprocessing.scale(equal_unscale_input)\n",
    "\n",
    "test_input = preprocessing.scale(test.drop('PassengerId', axis = 1))"
   ]
  },
  {
   "cell_type": "code",
   "execution_count": 48,
   "metadata": {},
   "outputs": [],
   "source": [
    "shuffle = np.arange(scaled_input.shape[0])\n",
    "np.random.shuffle(shuffle)\n",
    "\n",
    "shuffled_input = scaled_input[shuffle]\n",
    "shuffled_target = equal_target.to_numpy()[shuffle]"
   ]
  },
  {
   "cell_type": "markdown",
   "metadata": {},
   "source": [
    "## splitting"
   ]
  },
  {
   "cell_type": "code",
   "execution_count": 49,
   "metadata": {},
   "outputs": [],
   "source": [
    "obs = shuffled_target.shape[0]\n",
    "\n",
    "train_nums = int(0.8*obs)\n",
    "validation_nums = int(0.2*obs)\n",
    "\n",
    "train_input = shuffled_input[:train_nums]\n",
    "train_target = shuffled_target[:train_nums]\n",
    "\n",
    "validation_input = shuffled_input[train_nums:train_nums+validation_nums]\n",
    "validation_target = shuffled_target[train_nums:train_nums+validation_nums]\n"
   ]
  },
  {
   "cell_type": "code",
   "execution_count": 50,
   "metadata": {},
   "outputs": [],
   "source": [
    "train_input = train_input.astype(np.float)\n",
    "train_target = train_target.astype(np.int)\n",
    "\n",
    "validation_input = validation_input.astype(np.float)\n",
    "validation_target = validation_target.astype(np.int)"
   ]
  },
  {
   "cell_type": "markdown",
   "metadata": {},
   "source": [
    "# Model"
   ]
  },
  {
   "cell_type": "code",
   "execution_count": 51,
   "metadata": {},
   "outputs": [
    {
     "name": "stdout",
     "output_type": "stream",
     "text": [
      "Epoch 1/100\n",
      "6/6 - 0s - loss: 0.6622 - accuracy: 0.6618 - val_loss: 0.5114 - val_accuracy: 0.7426 - lr: 0.0010\n",
      "Epoch 2/100\n",
      "6/6 - 0s - loss: 0.5214 - accuracy: 0.7495 - val_loss: 0.4520 - val_accuracy: 0.8235 - lr: 0.0010\n",
      "Epoch 3/100\n",
      "6/6 - 0s - loss: 0.4685 - accuracy: 0.8007 - val_loss: 0.4129 - val_accuracy: 0.8382 - lr: 0.0010\n",
      "Epoch 4/100\n",
      "6/6 - 0s - loss: 0.4096 - accuracy: 0.8282 - val_loss: 0.4531 - val_accuracy: 0.8015 - lr: 0.0010\n",
      "Epoch 5/100\n",
      "6/6 - 0s - loss: 0.4141 - accuracy: 0.8026 - val_loss: 0.4386 - val_accuracy: 0.8088 - lr: 9.9996e-04\n",
      "Epoch 6/100\n",
      "6/6 - 0s - loss: 0.4026 - accuracy: 0.8318 - val_loss: 0.4007 - val_accuracy: 0.8382 - lr: 9.9995e-04\n",
      "Epoch 7/100\n",
      "6/6 - 0s - loss: 0.4094 - accuracy: 0.8263 - val_loss: 0.4209 - val_accuracy: 0.8456 - lr: 9.9994e-04\n",
      "Epoch 8/100\n",
      "6/6 - 0s - loss: 0.3795 - accuracy: 0.8428 - val_loss: 0.4796 - val_accuracy: 0.7868 - lr: 9.9993e-04\n",
      "Epoch 9/100\n",
      "6/6 - 0s - loss: 0.4095 - accuracy: 0.8135 - val_loss: 0.4242 - val_accuracy: 0.8162 - lr: 9.9992e-04\n"
     ]
    },
    {
     "data": {
      "text/plain": [
       "<tensorflow.python.keras.callbacks.History at 0x7fbac4dcc970>"
      ]
     },
     "execution_count": 51,
     "metadata": {},
     "output_type": "execute_result"
    }
   ],
   "source": [
    "#outline\n",
    "input_size = 8\n",
    "output_size = 2\n",
    "hidden_layer_size = 100\n",
    "init_mode = 'he_normal'\n",
    "\n",
    "model = tf.keras.Sequential([tf.keras.layers.Dense(hidden_layer_size,kernel_initializer=init_mode, activation = 'relu'),\n",
    "                             tf.keras.layers.Dense(hidden_layer_size,kernel_initializer=init_mode, activation = 'relu'),\n",
    "                             tf.keras.layers.Dense(hidden_layer_size,kernel_initializer=init_mode, activation = 'relu'),\n",
    "                             tf.keras.layers.Dense(hidden_layer_size,kernel_initializer=init_mode, activation = 'relu'),\n",
    "                             tf.keras.layers.Dense(hidden_layer_size,kernel_initializer=init_mode, activation = 'relu'),\n",
    "                             tf.keras.layers.Dense(output_size,kernel_initializer=init_mode, activation = 'softmax')\n",
    "                            ])\n",
    "\n",
    "#setting hyperparameter\n",
    "batch_size = 100\n",
    "max_epochs = 100\n",
    "learning_rate = 0.001\n",
    "decay_rate = learning_rate/max_epochs\n",
    "momentum = 0.9\n",
    "early_stopping = tf.keras.callbacks.EarlyStopping(patience = 3)\n",
    "\n",
    "#compile\n",
    "rms = tf.keras.optimizers.RMSprop(lr=0.001, rho=0.9, momentum = 0.8, epsilon=None, decay=decay_rate)\n",
    "sgd = tf.keras.optimizers.SGD(lr = learning_rate, momentum = momentum, decay = decay_rate, nesterov = False)\n",
    "\n",
    "model.compile(optimizer = rms, loss = 'sparse_categorical_crossentropy', metrics = ['accuracy'])\n",
    "\n",
    "#schedule learning rate\n",
    "\n",
    "def scheduler(epoch):\n",
    "    if epoch < 4:\n",
    "        return 0.001\n",
    "    else:\n",
    "        return 0.001 * tf.math.exp(-decay_rate*epoch)\n",
    "\n",
    "loss_history = tf.keras.callbacks.History()\n",
    "learning_rate = tf.keras.callbacks.LearningRateScheduler(scheduler)\n",
    "callbacks_list = [loss_history, learning_rate, early_stopping]\n",
    "\n",
    "#fit\n",
    "\n",
    "model.fit(train_input, train_target, batch_size = batch_size, epochs = max_epochs,\n",
    "         callbacks = callbacks_list,validation_data = (validation_input, validation_target), verbose = 2)"
   ]
  },
  {
   "cell_type": "code",
   "execution_count": 52,
   "metadata": {},
   "outputs": [],
   "source": [
    "def create_model(init_mode = 'uniform'):\n",
    "    input_size = 8\n",
    "    output_size = 2\n",
    "    hidden_layer_size = 100\n",
    "\n",
    "    model = tf.keras.Sequential([tf.keras.layers.Dense(hidden_layer_size,kernel_initializer=init_mode, activation = 'relu'),\n",
    "                                 tf.keras.layers.Dense(hidden_layer_size,kernel_initializer=init_mode, activation = 'relu'),\n",
    "                                 tf.keras.layers.Dense(hidden_layer_size,kernel_initializer=init_mode, activation = 'relu'),\n",
    "                                 tf.keras.layers.Dense(hidden_layer_size,kernel_initializer=init_mode, activation = 'relu'),\n",
    "                                 tf.keras.layers.Dense(hidden_layer_size,kernel_initializer=init_mode, activation = 'relu'),\n",
    "                                 tf.keras.layers.Dense(output_size,kernel_initializer=init_mode, activation = 'softmax')\n",
    "                                ])\n",
    "    \n",
    "    model.compile(optimizer = sgd, loss = 'sparse_categorical_crossentropy', metrics = ['accuracy'])\n",
    "    return model"
   ]
  },
  {
   "cell_type": "code",
   "execution_count": 53,
   "metadata": {},
   "outputs": [
    {
     "name": "stdout",
     "output_type": "stream",
     "text": [
      "Epoch 1/100\n",
      "8/8 - 0s - loss: 0.8359 - accuracy: 0.5594\n",
      "Epoch 2/100\n",
      "8/8 - 0s - loss: 0.6839 - accuracy: 0.6435\n",
      "Epoch 3/100\n",
      "8/8 - 0s - loss: 0.5708 - accuracy: 0.7349\n",
      "Epoch 4/100\n",
      "8/8 - 0s - loss: 0.5129 - accuracy: 0.7733\n",
      "Epoch 5/100\n",
      "8/8 - 0s - loss: 0.4964 - accuracy: 0.7678\n",
      "Epoch 6/100\n",
      "8/8 - 0s - loss: 0.4798 - accuracy: 0.7806\n",
      "Epoch 7/100\n",
      "8/8 - 0s - loss: 0.4685 - accuracy: 0.7788\n",
      "Epoch 8/100\n",
      "8/8 - 0s - loss: 0.4605 - accuracy: 0.7824\n",
      "Epoch 9/100\n",
      "8/8 - 0s - loss: 0.4549 - accuracy: 0.7952\n",
      "Epoch 10/100\n",
      "8/8 - 0s - loss: 0.4492 - accuracy: 0.7916\n",
      "Epoch 11/100\n",
      "8/8 - 0s - loss: 0.4439 - accuracy: 0.8026\n",
      "Epoch 12/100\n",
      "8/8 - 0s - loss: 0.4402 - accuracy: 0.8026\n",
      "Epoch 13/100\n",
      "8/8 - 0s - loss: 0.4348 - accuracy: 0.8080\n",
      "Epoch 14/100\n",
      "8/8 - 0s - loss: 0.4336 - accuracy: 0.8026\n",
      "Epoch 15/100\n",
      "8/8 - 0s - loss: 0.4292 - accuracy: 0.8080\n",
      "Epoch 16/100\n",
      "8/8 - 0s - loss: 0.4237 - accuracy: 0.8154\n",
      "Epoch 17/100\n",
      "8/8 - 0s - loss: 0.4222 - accuracy: 0.8172\n",
      "Epoch 18/100\n",
      "8/8 - 0s - loss: 0.4179 - accuracy: 0.8227\n",
      "Epoch 19/100\n",
      "8/8 - 0s - loss: 0.4165 - accuracy: 0.8154\n",
      "Epoch 20/100\n",
      "8/8 - 0s - loss: 0.4131 - accuracy: 0.8318\n",
      "Epoch 21/100\n",
      "8/8 - 0s - loss: 0.4115 - accuracy: 0.8227\n",
      "Epoch 22/100\n",
      "8/8 - 0s - loss: 0.4081 - accuracy: 0.8263\n",
      "Epoch 23/100\n",
      "8/8 - 0s - loss: 0.4042 - accuracy: 0.8318\n",
      "Epoch 24/100\n",
      "8/8 - 0s - loss: 0.4041 - accuracy: 0.8336\n",
      "Epoch 25/100\n",
      "8/8 - 0s - loss: 0.4054 - accuracy: 0.8263\n",
      "Epoch 26/100\n",
      "8/8 - 0s - loss: 0.3986 - accuracy: 0.8263\n",
      "Epoch 27/100\n",
      "8/8 - 0s - loss: 0.3966 - accuracy: 0.8318\n",
      "Epoch 28/100\n",
      "8/8 - 0s - loss: 0.3935 - accuracy: 0.8318\n",
      "Epoch 29/100\n",
      "8/8 - 0s - loss: 0.3933 - accuracy: 0.8300\n",
      "Epoch 30/100\n",
      "8/8 - 0s - loss: 0.3925 - accuracy: 0.8336\n",
      "Epoch 31/100\n",
      "8/8 - 0s - loss: 0.3892 - accuracy: 0.8336\n",
      "Epoch 32/100\n",
      "8/8 - 0s - loss: 0.3840 - accuracy: 0.8428\n",
      "Epoch 33/100\n",
      "8/8 - 0s - loss: 0.3865 - accuracy: 0.8373\n",
      "Epoch 34/100\n",
      "8/8 - 0s - loss: 0.3808 - accuracy: 0.8336\n",
      "Epoch 35/100\n",
      "8/8 - 0s - loss: 0.3802 - accuracy: 0.8464\n",
      "Epoch 36/100\n",
      "8/8 - 0s - loss: 0.3815 - accuracy: 0.8373\n",
      "Epoch 37/100\n",
      "8/8 - 0s - loss: 0.3781 - accuracy: 0.8355\n",
      "Epoch 38/100\n",
      "8/8 - 0s - loss: 0.3757 - accuracy: 0.8373\n",
      "Epoch 39/100\n",
      "8/8 - 0s - loss: 0.3746 - accuracy: 0.8391\n",
      "Epoch 40/100\n",
      "8/8 - 0s - loss: 0.3730 - accuracy: 0.8446\n",
      "Epoch 41/100\n",
      "8/8 - 0s - loss: 0.3694 - accuracy: 0.8483\n",
      "Epoch 42/100\n",
      "8/8 - 0s - loss: 0.3704 - accuracy: 0.8464\n",
      "Epoch 43/100\n",
      "8/8 - 0s - loss: 0.3686 - accuracy: 0.8537\n",
      "Epoch 44/100\n",
      "8/8 - 0s - loss: 0.3666 - accuracy: 0.8556\n",
      "Epoch 45/100\n",
      "8/8 - 0s - loss: 0.3643 - accuracy: 0.8537\n",
      "Epoch 46/100\n",
      "8/8 - 0s - loss: 0.3624 - accuracy: 0.8537\n",
      "Epoch 47/100\n",
      "8/8 - 0s - loss: 0.3619 - accuracy: 0.8501\n",
      "Epoch 48/100\n",
      "8/8 - 0s - loss: 0.3607 - accuracy: 0.8519\n",
      "Epoch 49/100\n",
      "8/8 - 0s - loss: 0.3582 - accuracy: 0.8537\n",
      "Epoch 50/100\n",
      "8/8 - 0s - loss: 0.3603 - accuracy: 0.8501\n",
      "Epoch 51/100\n",
      "8/8 - 0s - loss: 0.3582 - accuracy: 0.8519\n",
      "Epoch 52/100\n",
      "8/8 - 0s - loss: 0.3563 - accuracy: 0.8556\n",
      "Epoch 53/100\n",
      "8/8 - 0s - loss: 0.3537 - accuracy: 0.8519\n",
      "Epoch 54/100\n",
      "8/8 - 0s - loss: 0.3533 - accuracy: 0.8574\n",
      "Epoch 55/100\n",
      "8/8 - 0s - loss: 0.3512 - accuracy: 0.8556\n",
      "Epoch 56/100\n",
      "8/8 - 0s - loss: 0.3504 - accuracy: 0.8629\n",
      "Epoch 57/100\n",
      "8/8 - 0s - loss: 0.3482 - accuracy: 0.8574\n",
      "Epoch 58/100\n",
      "8/8 - 0s - loss: 0.3484 - accuracy: 0.8556\n",
      "Epoch 59/100\n",
      "8/8 - 0s - loss: 0.3465 - accuracy: 0.8556\n",
      "Epoch 60/100\n",
      "8/8 - 0s - loss: 0.3487 - accuracy: 0.8647\n",
      "Epoch 61/100\n",
      "8/8 - 0s - loss: 0.3485 - accuracy: 0.8537\n",
      "Epoch 62/100\n",
      "8/8 - 0s - loss: 0.3500 - accuracy: 0.8647\n",
      "Epoch 63/100\n",
      "8/8 - 0s - loss: 0.3454 - accuracy: 0.8537\n",
      "Epoch 64/100\n",
      "8/8 - 0s - loss: 0.3418 - accuracy: 0.8574\n",
      "Epoch 65/100\n",
      "8/8 - 0s - loss: 0.3457 - accuracy: 0.8702\n",
      "Epoch 66/100\n",
      "8/8 - 0s - loss: 0.3421 - accuracy: 0.8592\n",
      "Epoch 67/100\n",
      "8/8 - 0s - loss: 0.3381 - accuracy: 0.8665\n",
      "Epoch 68/100\n",
      "8/8 - 0s - loss: 0.3370 - accuracy: 0.8574\n",
      "Epoch 69/100\n",
      "8/8 - 0s - loss: 0.3360 - accuracy: 0.8611\n",
      "Epoch 70/100\n",
      "8/8 - 0s - loss: 0.3352 - accuracy: 0.8702\n",
      "Epoch 71/100\n",
      "8/8 - 0s - loss: 0.3340 - accuracy: 0.8684\n",
      "Epoch 72/100\n",
      "8/8 - 0s - loss: 0.3331 - accuracy: 0.8647\n",
      "Epoch 73/100\n",
      "8/8 - 0s - loss: 0.3327 - accuracy: 0.8757\n",
      "Epoch 74/100\n",
      "8/8 - 0s - loss: 0.3316 - accuracy: 0.8739\n",
      "Epoch 75/100\n",
      "8/8 - 0s - loss: 0.3315 - accuracy: 0.8684\n",
      "Epoch 76/100\n",
      "8/8 - 0s - loss: 0.3292 - accuracy: 0.8739\n",
      "Epoch 77/100\n",
      "8/8 - 0s - loss: 0.3298 - accuracy: 0.8757\n",
      "Epoch 78/100\n",
      "8/8 - 0s - loss: 0.3287 - accuracy: 0.8812\n",
      "Epoch 79/100\n",
      "8/8 - 0s - loss: 0.3275 - accuracy: 0.8757\n",
      "Epoch 80/100\n",
      "8/8 - 0s - loss: 0.3276 - accuracy: 0.8739\n",
      "Epoch 81/100\n",
      "8/8 - 0s - loss: 0.3248 - accuracy: 0.8739\n",
      "Epoch 82/100\n",
      "8/8 - 0s - loss: 0.3240 - accuracy: 0.8739\n",
      "Epoch 83/100\n",
      "8/8 - 0s - loss: 0.3240 - accuracy: 0.8812\n",
      "Epoch 84/100\n",
      "8/8 - 0s - loss: 0.3237 - accuracy: 0.8739\n",
      "Epoch 85/100\n",
      "8/8 - 0s - loss: 0.3247 - accuracy: 0.8739\n",
      "Epoch 86/100\n",
      "8/8 - 0s - loss: 0.3221 - accuracy: 0.8793\n",
      "Epoch 87/100\n",
      "8/8 - 0s - loss: 0.3205 - accuracy: 0.8720\n",
      "Epoch 88/100\n",
      "8/8 - 0s - loss: 0.3211 - accuracy: 0.8830\n",
      "Epoch 89/100\n",
      "8/8 - 0s - loss: 0.3201 - accuracy: 0.8903\n",
      "Epoch 90/100\n",
      "8/8 - 0s - loss: 0.3186 - accuracy: 0.8757\n",
      "Epoch 91/100\n",
      "8/8 - 0s - loss: 0.3170 - accuracy: 0.8812\n",
      "Epoch 92/100\n",
      "8/8 - 0s - loss: 0.3174 - accuracy: 0.8757\n",
      "Epoch 93/100\n",
      "8/8 - 0s - loss: 0.3177 - accuracy: 0.8812\n",
      "Epoch 94/100\n",
      "8/8 - 0s - loss: 0.3152 - accuracy: 0.8812\n",
      "Epoch 95/100\n",
      "8/8 - 0s - loss: 0.3133 - accuracy: 0.8757\n",
      "Epoch 96/100\n",
      "8/8 - 0s - loss: 0.3147 - accuracy: 0.8702\n",
      "Epoch 97/100\n",
      "8/8 - 0s - loss: 0.3141 - accuracy: 0.8775\n",
      "Epoch 98/100\n",
      "8/8 - 0s - loss: 0.3124 - accuracy: 0.8793\n",
      "Epoch 99/100\n",
      "8/8 - 0s - loss: 0.3114 - accuracy: 0.8830\n",
      "Epoch 100/100\n",
      "8/8 - 0s - loss: 0.3111 - accuracy: 0.8812\n",
      "CPU times: user 13.8 s, sys: 9.76 s, total: 23.6 s\n",
      "Wall time: 4min 29s\n"
     ]
    }
   ],
   "source": [
    "%%time\n",
    "seed = 7\n",
    "np.random.seed(seed)\n",
    "batch_size = [70,100,150,200]\n",
    "epochs = [25,50,100]\n",
    "\n",
    "model_CV = KerasClassifier(build_fn=create_model, verbose=2)\n",
    "# define the grid search parameters\n",
    "init_mode = ['uniform', 'lecun_uniform', 'normal', 'zero', \n",
    "             'glorot_normal', 'glorot_uniform', 'he_normal', 'he_uniform']\n",
    "\n",
    "param_grid = dict(init_mode=init_mode, batch_size = batch_size, epochs = epochs)\n",
    "\n",
    "grid = GridSearchCV(estimator=model_CV, param_grid=param_grid, n_jobs=-1, cv=3, refit = True)\n",
    "\n",
    "grid_result = grid.fit(train_input, train_target)"
   ]
  },
  {
   "cell_type": "code",
   "execution_count": 54,
   "metadata": {},
   "outputs": [
    {
     "data": {
      "text/plain": [
       "(0.7898176511128744,\n",
       " {'batch_size': 70, 'epochs': 100, 'init_mode': 'he_normal'},\n",
       " {'mean_fit_time': array([1.86718376, 1.78759805, 1.70936465, 1.80908926, 2.31523927,\n",
       "         2.60798367, 2.44273202, 2.03096493, 2.8613588 , 3.31035002,\n",
       "         2.68802762, 2.77591228, 4.16346097, 4.60841068, 2.72660947,\n",
       "         2.81953518, 4.42515246, 4.66666174, 4.88672709, 4.48965804,\n",
       "         4.38331183, 5.19440627, 5.19250989, 3.94670757, 1.65080277,\n",
       "         1.37446245, 1.54467893, 1.78631846, 1.48362192, 2.0229946 ,\n",
       "         1.71460565, 1.87028885, 2.28986573, 2.68519688, 2.34243997,\n",
       "         2.32385484, 2.08660897, 2.34669606, 2.15126181, 2.12581325,\n",
       "         3.7121834 , 3.54167914, 3.28484233, 3.46360048, 3.67177137,\n",
       "         3.90474796, 4.03956016, 3.80180987, 1.71295134, 1.79812344,\n",
       "         2.1061759 , 1.96473296, 2.45131199, 1.6979816 , 1.71847153,\n",
       "         1.75417773, 2.40951403, 2.62352451, 2.3147227 , 2.12738101,\n",
       "         2.33706522, 2.33100986, 2.20966959, 2.28396352, 3.28356751,\n",
       "         3.12133924, 3.48926417, 3.22630246, 3.09447559, 3.36283342,\n",
       "         3.29452181, 3.42996113, 1.74699831, 1.52154072, 1.59321038,\n",
       "         1.74760604, 1.63613002, 1.57572651, 2.29261891, 2.33834982,\n",
       "         3.5151395 , 3.78161748, 2.83022221, 3.60022688, 3.48342371,\n",
       "         3.50144966, 3.24590286, 3.30324666, 4.11606177, 3.63097   ,\n",
       "         3.50321849, 2.90974593, 3.01311167, 3.07670673, 2.98444827,\n",
       "         2.83870316]),\n",
       "  'std_fit_time': array([0.16412343, 0.32521241, 0.20855203, 0.31430694, 0.28426614,\n",
       "         0.12843427, 0.24271779, 0.23807632, 0.42401525, 0.24989518,\n",
       "         0.0812775 , 0.3929098 , 0.70525673, 0.20749244, 0.3076899 ,\n",
       "         0.10071853, 0.31704434, 0.25707648, 0.35929581, 0.21515576,\n",
       "         0.02443276, 0.47634523, 0.13155589, 0.08127441, 0.21335694,\n",
       "         0.0108372 , 0.25198549, 0.1262131 , 0.1081683 , 0.22487979,\n",
       "         0.22384945, 0.29221228, 0.35024594, 0.3345081 , 0.21033147,\n",
       "         0.45309509, 0.10142519, 0.35620179, 0.09241975, 0.12509751,\n",
       "         0.24330987, 0.2359661 , 0.15748511, 0.18555207, 0.11200419,\n",
       "         0.20705526, 0.20641037, 0.18468531, 0.42563797, 0.05924929,\n",
       "         0.15031182, 0.10274312, 0.07540162, 0.1081183 , 0.22429424,\n",
       "         0.19663734, 0.07809762, 0.0812111 , 0.33206993, 0.06484867,\n",
       "         0.12310564, 0.38590568, 0.24120333, 0.30416028, 0.30083257,\n",
       "         0.30173549, 0.05768607, 0.23461458, 0.07291686, 0.24353922,\n",
       "         0.22415761, 0.0879043 , 0.20024746, 0.17279292, 0.20844131,\n",
       "         0.18958141, 0.21814649, 0.29104996, 0.24522805, 0.22017945,\n",
       "         0.25332174, 0.32167306, 0.54365252, 0.34105667, 0.20201248,\n",
       "         0.30226415, 0.47812861, 0.33101657, 0.4039214 , 0.24665571,\n",
       "         0.45478279, 0.09547453, 0.18373086, 0.11705079, 0.17718866,\n",
       "         0.31536631]),\n",
       "  'mean_score_time': array([0.47087336, 0.57869442, 0.51558948, 0.47638893, 0.78477867,\n",
       "         0.61496782, 0.53270229, 0.43348757, 0.6108559 , 0.71935836,\n",
       "         0.59777101, 0.84436798, 0.87603505, 0.69375777, 0.59900133,\n",
       "         0.6954751 , 0.51781185, 0.76740559, 0.63839706, 0.76980297,\n",
       "         0.68685659, 0.68675653, 0.46448557, 0.65440329, 0.52257315,\n",
       "         0.6236612 , 0.41208839, 0.54956929, 0.50555849, 0.49358916,\n",
       "         0.52462991, 0.44645611, 0.52948133, 0.50355705, 0.6561385 ,\n",
       "         0.62192456, 0.48395967, 0.47833904, 0.60329731, 0.34264119,\n",
       "         0.51367728, 0.44518685, 0.42147978, 0.59981314, 0.74998927,\n",
       "         0.69519544, 0.68329469, 0.46765304, 0.55330078, 0.51777363,\n",
       "         0.77582256, 0.77123125, 0.56552919, 0.68741012, 0.47252091,\n",
       "         0.52825562, 0.35786676, 0.57806452, 0.36830187, 0.47459555,\n",
       "         0.43823751, 0.55243182, 0.45120128, 0.50615684, 0.62582787,\n",
       "         0.46391567, 0.56472158, 0.51927582, 0.46820815, 0.54875255,\n",
       "         0.63488968, 0.5553782 , 0.42084622, 0.43337671, 0.51274316,\n",
       "         0.52386252, 0.53825951, 0.66438397, 0.63376252, 0.66574629,\n",
       "         0.82038887, 0.75626421, 0.93058825, 0.79233877, 0.67937613,\n",
       "         0.6942052 , 0.97344454, 1.06729412, 0.79781413, 0.48274358,\n",
       "         0.88376435, 0.48821664, 0.53162551, 0.56703679, 0.49345016,\n",
       "         0.27857375]),\n",
       "  'std_score_time': array([0.06612907, 0.07685948, 0.21090589, 0.12087677, 0.20091709,\n",
       "         0.22969203, 0.10949943, 0.10672474, 0.20494589, 0.11920413,\n",
       "         0.11153325, 0.24730837, 0.34087866, 0.11393363, 0.06481631,\n",
       "         0.20363361, 0.12197106, 0.01158366, 0.19001041, 0.2609974 ,\n",
       "         0.26192454, 0.15473289, 0.12667674, 0.09300603, 0.04481235,\n",
       "         0.05121543, 0.12789736, 0.02312855, 0.14548498, 0.03611529,\n",
       "         0.06490433, 0.07440508, 0.12310092, 0.03339113, 0.09393021,\n",
       "         0.06961754, 0.0704763 , 0.13175303, 0.08696979, 0.02762933,\n",
       "         0.09615629, 0.16155044, 0.00882762, 0.09010437, 0.12261748,\n",
       "         0.16273803, 0.03064013, 0.09849791, 0.08911178, 0.08924042,\n",
       "         0.20801515, 0.08425404, 0.15539487, 0.10707   , 0.10134547,\n",
       "         0.11724862, 0.0086278 , 0.13443752, 0.0466723 , 0.06951648,\n",
       "         0.04341049, 0.07868172, 0.12745675, 0.08937679, 0.07907883,\n",
       "         0.03481942, 0.09165673, 0.17525622, 0.03030688, 0.08728894,\n",
       "         0.03476226, 0.0584067 , 0.12683828, 0.03271794, 0.09520847,\n",
       "         0.11176127, 0.16017387, 0.09581571, 0.04005523, 0.23133623,\n",
       "         0.05224901, 0.16056143, 0.1367912 , 0.24115446, 0.20653051,\n",
       "         0.17397052, 0.08647433, 0.3033887 , 0.13619196, 0.04113123,\n",
       "         0.10377482, 0.10380641, 0.13063732, 0.11905628, 0.11893944,\n",
       "         0.056762  ]),\n",
       "  'param_batch_size': masked_array(data=[70, 70, 70, 70, 70, 70, 70, 70, 70, 70, 70, 70, 70, 70,\n",
       "                     70, 70, 70, 70, 70, 70, 70, 70, 70, 70, 100, 100, 100,\n",
       "                     100, 100, 100, 100, 100, 100, 100, 100, 100, 100, 100,\n",
       "                     100, 100, 100, 100, 100, 100, 100, 100, 100, 100, 150,\n",
       "                     150, 150, 150, 150, 150, 150, 150, 150, 150, 150, 150,\n",
       "                     150, 150, 150, 150, 150, 150, 150, 150, 150, 150, 150,\n",
       "                     150, 200, 200, 200, 200, 200, 200, 200, 200, 200, 200,\n",
       "                     200, 200, 200, 200, 200, 200, 200, 200, 200, 200, 200,\n",
       "                     200, 200, 200],\n",
       "               mask=[False, False, False, False, False, False, False, False,\n",
       "                     False, False, False, False, False, False, False, False,\n",
       "                     False, False, False, False, False, False, False, False,\n",
       "                     False, False, False, False, False, False, False, False,\n",
       "                     False, False, False, False, False, False, False, False,\n",
       "                     False, False, False, False, False, False, False, False,\n",
       "                     False, False, False, False, False, False, False, False,\n",
       "                     False, False, False, False, False, False, False, False,\n",
       "                     False, False, False, False, False, False, False, False,\n",
       "                     False, False, False, False, False, False, False, False,\n",
       "                     False, False, False, False, False, False, False, False,\n",
       "                     False, False, False, False, False, False, False, False],\n",
       "         fill_value='?',\n",
       "              dtype=object),\n",
       "  'param_epochs': masked_array(data=[25, 25, 25, 25, 25, 25, 25, 25, 50, 50, 50, 50, 50, 50,\n",
       "                     50, 50, 100, 100, 100, 100, 100, 100, 100, 100, 25, 25,\n",
       "                     25, 25, 25, 25, 25, 25, 50, 50, 50, 50, 50, 50, 50, 50,\n",
       "                     100, 100, 100, 100, 100, 100, 100, 100, 25, 25, 25, 25,\n",
       "                     25, 25, 25, 25, 50, 50, 50, 50, 50, 50, 50, 50, 100,\n",
       "                     100, 100, 100, 100, 100, 100, 100, 25, 25, 25, 25, 25,\n",
       "                     25, 25, 25, 50, 50, 50, 50, 50, 50, 50, 50, 100, 100,\n",
       "                     100, 100, 100, 100, 100, 100],\n",
       "               mask=[False, False, False, False, False, False, False, False,\n",
       "                     False, False, False, False, False, False, False, False,\n",
       "                     False, False, False, False, False, False, False, False,\n",
       "                     False, False, False, False, False, False, False, False,\n",
       "                     False, False, False, False, False, False, False, False,\n",
       "                     False, False, False, False, False, False, False, False,\n",
       "                     False, False, False, False, False, False, False, False,\n",
       "                     False, False, False, False, False, False, False, False,\n",
       "                     False, False, False, False, False, False, False, False,\n",
       "                     False, False, False, False, False, False, False, False,\n",
       "                     False, False, False, False, False, False, False, False,\n",
       "                     False, False, False, False, False, False, False, False],\n",
       "         fill_value='?',\n",
       "              dtype=object),\n",
       "  'param_init_mode': masked_array(data=['uniform', 'lecun_uniform', 'normal', 'zero',\n",
       "                     'glorot_normal', 'glorot_uniform', 'he_normal',\n",
       "                     'he_uniform', 'uniform', 'lecun_uniform', 'normal',\n",
       "                     'zero', 'glorot_normal', 'glorot_uniform', 'he_normal',\n",
       "                     'he_uniform', 'uniform', 'lecun_uniform', 'normal',\n",
       "                     'zero', 'glorot_normal', 'glorot_uniform', 'he_normal',\n",
       "                     'he_uniform', 'uniform', 'lecun_uniform', 'normal',\n",
       "                     'zero', 'glorot_normal', 'glorot_uniform', 'he_normal',\n",
       "                     'he_uniform', 'uniform', 'lecun_uniform', 'normal',\n",
       "                     'zero', 'glorot_normal', 'glorot_uniform', 'he_normal',\n",
       "                     'he_uniform', 'uniform', 'lecun_uniform', 'normal',\n",
       "                     'zero', 'glorot_normal', 'glorot_uniform', 'he_normal',\n",
       "                     'he_uniform', 'uniform', 'lecun_uniform', 'normal',\n",
       "                     'zero', 'glorot_normal', 'glorot_uniform', 'he_normal',\n",
       "                     'he_uniform', 'uniform', 'lecun_uniform', 'normal',\n",
       "                     'zero', 'glorot_normal', 'glorot_uniform', 'he_normal',\n",
       "                     'he_uniform', 'uniform', 'lecun_uniform', 'normal',\n",
       "                     'zero', 'glorot_normal', 'glorot_uniform', 'he_normal',\n",
       "                     'he_uniform', 'uniform', 'lecun_uniform', 'normal',\n",
       "                     'zero', 'glorot_normal', 'glorot_uniform', 'he_normal',\n",
       "                     'he_uniform', 'uniform', 'lecun_uniform', 'normal',\n",
       "                     'zero', 'glorot_normal', 'glorot_uniform', 'he_normal',\n",
       "                     'he_uniform', 'uniform', 'lecun_uniform', 'normal',\n",
       "                     'zero', 'glorot_normal', 'glorot_uniform', 'he_normal',\n",
       "                     'he_uniform'],\n",
       "               mask=[False, False, False, False, False, False, False, False,\n",
       "                     False, False, False, False, False, False, False, False,\n",
       "                     False, False, False, False, False, False, False, False,\n",
       "                     False, False, False, False, False, False, False, False,\n",
       "                     False, False, False, False, False, False, False, False,\n",
       "                     False, False, False, False, False, False, False, False,\n",
       "                     False, False, False, False, False, False, False, False,\n",
       "                     False, False, False, False, False, False, False, False,\n",
       "                     False, False, False, False, False, False, False, False,\n",
       "                     False, False, False, False, False, False, False, False,\n",
       "                     False, False, False, False, False, False, False, False,\n",
       "                     False, False, False, False, False, False, False, False],\n",
       "         fill_value='?',\n",
       "              dtype=object),\n",
       "  'params': [{'batch_size': 70, 'epochs': 25, 'init_mode': 'uniform'},\n",
       "   {'batch_size': 70, 'epochs': 25, 'init_mode': 'lecun_uniform'},\n",
       "   {'batch_size': 70, 'epochs': 25, 'init_mode': 'normal'},\n",
       "   {'batch_size': 70, 'epochs': 25, 'init_mode': 'zero'},\n",
       "   {'batch_size': 70, 'epochs': 25, 'init_mode': 'glorot_normal'},\n",
       "   {'batch_size': 70, 'epochs': 25, 'init_mode': 'glorot_uniform'},\n",
       "   {'batch_size': 70, 'epochs': 25, 'init_mode': 'he_normal'},\n",
       "   {'batch_size': 70, 'epochs': 25, 'init_mode': 'he_uniform'},\n",
       "   {'batch_size': 70, 'epochs': 50, 'init_mode': 'uniform'},\n",
       "   {'batch_size': 70, 'epochs': 50, 'init_mode': 'lecun_uniform'},\n",
       "   {'batch_size': 70, 'epochs': 50, 'init_mode': 'normal'},\n",
       "   {'batch_size': 70, 'epochs': 50, 'init_mode': 'zero'},\n",
       "   {'batch_size': 70, 'epochs': 50, 'init_mode': 'glorot_normal'},\n",
       "   {'batch_size': 70, 'epochs': 50, 'init_mode': 'glorot_uniform'},\n",
       "   {'batch_size': 70, 'epochs': 50, 'init_mode': 'he_normal'},\n",
       "   {'batch_size': 70, 'epochs': 50, 'init_mode': 'he_uniform'},\n",
       "   {'batch_size': 70, 'epochs': 100, 'init_mode': 'uniform'},\n",
       "   {'batch_size': 70, 'epochs': 100, 'init_mode': 'lecun_uniform'},\n",
       "   {'batch_size': 70, 'epochs': 100, 'init_mode': 'normal'},\n",
       "   {'batch_size': 70, 'epochs': 100, 'init_mode': 'zero'},\n",
       "   {'batch_size': 70, 'epochs': 100, 'init_mode': 'glorot_normal'},\n",
       "   {'batch_size': 70, 'epochs': 100, 'init_mode': 'glorot_uniform'},\n",
       "   {'batch_size': 70, 'epochs': 100, 'init_mode': 'he_normal'},\n",
       "   {'batch_size': 70, 'epochs': 100, 'init_mode': 'he_uniform'},\n",
       "   {'batch_size': 100, 'epochs': 25, 'init_mode': 'uniform'},\n",
       "   {'batch_size': 100, 'epochs': 25, 'init_mode': 'lecun_uniform'},\n",
       "   {'batch_size': 100, 'epochs': 25, 'init_mode': 'normal'},\n",
       "   {'batch_size': 100, 'epochs': 25, 'init_mode': 'zero'},\n",
       "   {'batch_size': 100, 'epochs': 25, 'init_mode': 'glorot_normal'},\n",
       "   {'batch_size': 100, 'epochs': 25, 'init_mode': 'glorot_uniform'},\n",
       "   {'batch_size': 100, 'epochs': 25, 'init_mode': 'he_normal'},\n",
       "   {'batch_size': 100, 'epochs': 25, 'init_mode': 'he_uniform'},\n",
       "   {'batch_size': 100, 'epochs': 50, 'init_mode': 'uniform'},\n",
       "   {'batch_size': 100, 'epochs': 50, 'init_mode': 'lecun_uniform'},\n",
       "   {'batch_size': 100, 'epochs': 50, 'init_mode': 'normal'},\n",
       "   {'batch_size': 100, 'epochs': 50, 'init_mode': 'zero'},\n",
       "   {'batch_size': 100, 'epochs': 50, 'init_mode': 'glorot_normal'},\n",
       "   {'batch_size': 100, 'epochs': 50, 'init_mode': 'glorot_uniform'},\n",
       "   {'batch_size': 100, 'epochs': 50, 'init_mode': 'he_normal'},\n",
       "   {'batch_size': 100, 'epochs': 50, 'init_mode': 'he_uniform'},\n",
       "   {'batch_size': 100, 'epochs': 100, 'init_mode': 'uniform'},\n",
       "   {'batch_size': 100, 'epochs': 100, 'init_mode': 'lecun_uniform'},\n",
       "   {'batch_size': 100, 'epochs': 100, 'init_mode': 'normal'},\n",
       "   {'batch_size': 100, 'epochs': 100, 'init_mode': 'zero'},\n",
       "   {'batch_size': 100, 'epochs': 100, 'init_mode': 'glorot_normal'},\n",
       "   {'batch_size': 100, 'epochs': 100, 'init_mode': 'glorot_uniform'},\n",
       "   {'batch_size': 100, 'epochs': 100, 'init_mode': 'he_normal'},\n",
       "   {'batch_size': 100, 'epochs': 100, 'init_mode': 'he_uniform'},\n",
       "   {'batch_size': 150, 'epochs': 25, 'init_mode': 'uniform'},\n",
       "   {'batch_size': 150, 'epochs': 25, 'init_mode': 'lecun_uniform'},\n",
       "   {'batch_size': 150, 'epochs': 25, 'init_mode': 'normal'},\n",
       "   {'batch_size': 150, 'epochs': 25, 'init_mode': 'zero'},\n",
       "   {'batch_size': 150, 'epochs': 25, 'init_mode': 'glorot_normal'},\n",
       "   {'batch_size': 150, 'epochs': 25, 'init_mode': 'glorot_uniform'},\n",
       "   {'batch_size': 150, 'epochs': 25, 'init_mode': 'he_normal'},\n",
       "   {'batch_size': 150, 'epochs': 25, 'init_mode': 'he_uniform'},\n",
       "   {'batch_size': 150, 'epochs': 50, 'init_mode': 'uniform'},\n",
       "   {'batch_size': 150, 'epochs': 50, 'init_mode': 'lecun_uniform'},\n",
       "   {'batch_size': 150, 'epochs': 50, 'init_mode': 'normal'},\n",
       "   {'batch_size': 150, 'epochs': 50, 'init_mode': 'zero'},\n",
       "   {'batch_size': 150, 'epochs': 50, 'init_mode': 'glorot_normal'},\n",
       "   {'batch_size': 150, 'epochs': 50, 'init_mode': 'glorot_uniform'},\n",
       "   {'batch_size': 150, 'epochs': 50, 'init_mode': 'he_normal'},\n",
       "   {'batch_size': 150, 'epochs': 50, 'init_mode': 'he_uniform'},\n",
       "   {'batch_size': 150, 'epochs': 100, 'init_mode': 'uniform'},\n",
       "   {'batch_size': 150, 'epochs': 100, 'init_mode': 'lecun_uniform'},\n",
       "   {'batch_size': 150, 'epochs': 100, 'init_mode': 'normal'},\n",
       "   {'batch_size': 150, 'epochs': 100, 'init_mode': 'zero'},\n",
       "   {'batch_size': 150, 'epochs': 100, 'init_mode': 'glorot_normal'},\n",
       "   {'batch_size': 150, 'epochs': 100, 'init_mode': 'glorot_uniform'},\n",
       "   {'batch_size': 150, 'epochs': 100, 'init_mode': 'he_normal'},\n",
       "   {'batch_size': 150, 'epochs': 100, 'init_mode': 'he_uniform'},\n",
       "   {'batch_size': 200, 'epochs': 25, 'init_mode': 'uniform'},\n",
       "   {'batch_size': 200, 'epochs': 25, 'init_mode': 'lecun_uniform'},\n",
       "   {'batch_size': 200, 'epochs': 25, 'init_mode': 'normal'},\n",
       "   {'batch_size': 200, 'epochs': 25, 'init_mode': 'zero'},\n",
       "   {'batch_size': 200, 'epochs': 25, 'init_mode': 'glorot_normal'},\n",
       "   {'batch_size': 200, 'epochs': 25, 'init_mode': 'glorot_uniform'},\n",
       "   {'batch_size': 200, 'epochs': 25, 'init_mode': 'he_normal'},\n",
       "   {'batch_size': 200, 'epochs': 25, 'init_mode': 'he_uniform'},\n",
       "   {'batch_size': 200, 'epochs': 50, 'init_mode': 'uniform'},\n",
       "   {'batch_size': 200, 'epochs': 50, 'init_mode': 'lecun_uniform'},\n",
       "   {'batch_size': 200, 'epochs': 50, 'init_mode': 'normal'},\n",
       "   {'batch_size': 200, 'epochs': 50, 'init_mode': 'zero'},\n",
       "   {'batch_size': 200, 'epochs': 50, 'init_mode': 'glorot_normal'},\n",
       "   {'batch_size': 200, 'epochs': 50, 'init_mode': 'glorot_uniform'},\n",
       "   {'batch_size': 200, 'epochs': 50, 'init_mode': 'he_normal'},\n",
       "   {'batch_size': 200, 'epochs': 50, 'init_mode': 'he_uniform'},\n",
       "   {'batch_size': 200, 'epochs': 100, 'init_mode': 'uniform'},\n",
       "   {'batch_size': 200, 'epochs': 100, 'init_mode': 'lecun_uniform'},\n",
       "   {'batch_size': 200, 'epochs': 100, 'init_mode': 'normal'},\n",
       "   {'batch_size': 200, 'epochs': 100, 'init_mode': 'zero'},\n",
       "   {'batch_size': 200, 'epochs': 100, 'init_mode': 'glorot_normal'},\n",
       "   {'batch_size': 200, 'epochs': 100, 'init_mode': 'glorot_uniform'},\n",
       "   {'batch_size': 200, 'epochs': 100, 'init_mode': 'he_normal'},\n",
       "   {'batch_size': 200, 'epochs': 100, 'init_mode': 'he_uniform'}],\n",
       "  'split0_test_score': array([0.54644811, 0.71584702, 0.56830603, 0.45355192, 0.71584702,\n",
       "         0.74316943, 0.73770493, 0.77049178, 0.45355192, 0.69945353,\n",
       "         0.71584702, 0.54644811, 0.73770493, 0.73224044, 0.73224044,\n",
       "         0.73224044, 0.45355192, 0.73224044, 0.45355192, 0.54644811,\n",
       "         0.75409836, 0.74863386, 0.75956285, 0.71038252, 0.54644811,\n",
       "         0.70491803, 0.55191255, 0.54644811, 0.6939891 , 0.67759562,\n",
       "         0.75956285, 0.71038252, 0.54644811, 0.70491803, 0.63387978,\n",
       "         0.45355192, 0.72131145, 0.72677594, 0.72677594, 0.75956285,\n",
       "         0.54644811, 0.73224044, 0.75956285, 0.54644811, 0.73770493,\n",
       "         0.71038252, 0.74316943, 0.72677594, 0.45355192, 0.73224044,\n",
       "         0.54098362, 0.54644811, 0.60109288, 0.72677594, 0.74863386,\n",
       "         0.75409836, 0.54644811, 0.73770493, 0.45355192, 0.45355192,\n",
       "         0.73224044, 0.68306011, 0.75956285, 0.72677594, 0.45355192,\n",
       "         0.72131145, 0.56830603, 0.45355192, 0.71584702, 0.74863386,\n",
       "         0.72677594, 0.75956285, 0.45901638, 0.6939891 , 0.56830603,\n",
       "         0.54644811, 0.67213112, 0.60655737, 0.73770493, 0.70491803,\n",
       "         0.45355192, 0.72677594, 0.67759562, 0.45355192, 0.69945353,\n",
       "         0.75956285, 0.74316943, 0.72677594, 0.57923496, 0.71038252,\n",
       "         0.72677594, 0.54644811, 0.73224044, 0.72677594, 0.78688526,\n",
       "         0.75956285]),\n",
       "  'split1_test_score': array([0.49450549, 0.76373625, 0.49450549, 0.49450549, 0.76373625,\n",
       "         0.71428573, 0.80769229, 0.74725276, 0.49450549, 0.78571427,\n",
       "         0.49450549, 0.49450549, 0.78571427, 0.78571427, 0.77472526,\n",
       "         0.76923078, 0.49450549, 0.78021979, 0.49450549, 0.49450549,\n",
       "         0.7912088 , 0.7912088 , 0.79670328, 0.77472526, 0.49450549,\n",
       "         0.78571427, 0.49450549, 0.49450549, 0.73076922, 0.76923078,\n",
       "         0.77472526, 0.7912088 , 0.49450549, 0.78571427, 0.49450549,\n",
       "         0.49450549, 0.79670328, 0.78021979, 0.78571427, 0.78021979,\n",
       "         0.49450549, 0.7912088 , 0.49450549, 0.49450549, 0.80219781,\n",
       "         0.7912088 , 0.76373625, 0.76923078, 0.49450549, 0.71428573,\n",
       "         0.49450549, 0.49450549, 0.71978021, 0.69780219, 0.77472526,\n",
       "         0.76923078, 0.49450549, 0.76373625, 0.49450549, 0.49450549,\n",
       "         0.74725276, 0.78571427, 0.76373625, 0.80769229, 0.49450549,\n",
       "         0.7912088 , 0.49450549, 0.49450549, 0.78021979, 0.78571427,\n",
       "         0.77472526, 0.77472526, 0.49450549, 0.69230771, 0.49450549,\n",
       "         0.49450549, 0.7912088 , 0.75274724, 0.79670328, 0.81318682,\n",
       "         0.49450549, 0.78571427, 0.49450549, 0.49450549, 0.6813187 ,\n",
       "         0.69230771, 0.75824177, 0.79670328, 0.49450549, 0.80769229,\n",
       "         0.49450549, 0.49450549, 0.7912088 , 0.7912088 , 0.77472526,\n",
       "         0.78571427]),\n",
       "  'split2_test_score': array([0.50549453, 0.80219781, 0.50549453, 0.50549453, 0.76373625,\n",
       "         0.76373625, 0.77472526, 0.7912088 , 0.50549453, 0.78021979,\n",
       "         0.50549453, 0.50549453, 0.76923078, 0.7912088 , 0.77472526,\n",
       "         0.80219781, 0.50549453, 0.80769229, 0.50549453, 0.50549453,\n",
       "         0.80219781, 0.78571427, 0.81318682, 0.80769229, 0.50549453,\n",
       "         0.75824177, 0.50549453, 0.50549453, 0.65934068, 0.71428573,\n",
       "         0.78021979, 0.79670328, 0.50549453, 0.75824177, 0.50549453,\n",
       "         0.50549453, 0.75274724, 0.77472526, 0.78571427, 0.79670328,\n",
       "         0.50549453, 0.78021979, 0.50549453, 0.50549453, 0.7912088 ,\n",
       "         0.78021979, 0.81318682, 0.76373625, 0.50549453, 0.78021979,\n",
       "         0.50549453, 0.50549453, 0.62087911, 0.73626375, 0.78021979,\n",
       "         0.78571427, 0.50549453, 0.76373625, 0.50549453, 0.50549453,\n",
       "         0.75274724, 0.74175823, 0.7912088 , 0.79670328, 0.50549453,\n",
       "         0.79670328, 0.50549453, 0.50549453, 0.76923078, 0.76373625,\n",
       "         0.80219781, 0.81318682, 0.50549453, 0.70329672, 0.50549453,\n",
       "         0.50549453, 0.70329672, 0.68681318, 0.76373625, 0.74725276,\n",
       "         0.50549453, 0.75274724, 0.50549453, 0.50549453, 0.74175823,\n",
       "         0.78571427, 0.80219781, 0.77472526, 0.50549453, 0.77472526,\n",
       "         0.50549453, 0.50549453, 0.74725276, 0.76373625, 0.80769229,\n",
       "         0.81318682]),\n",
       "  'mean_test_score': array([0.51548271, 0.76059369, 0.52276869, 0.48451732, 0.74777317,\n",
       "         0.74039714, 0.77337416, 0.76965111, 0.48451732, 0.7551292 ,\n",
       "         0.57194902, 0.51548271, 0.76421666, 0.76972117, 0.76056365,\n",
       "         0.76788968, 0.48451732, 0.77338417, 0.48451732, 0.51548271,\n",
       "         0.78250166, 0.77518564, 0.78981765, 0.76426669, 0.51548271,\n",
       "         0.74962469, 0.51730419, 0.51548271, 0.69469966, 0.72037071,\n",
       "         0.77150263, 0.7660982 , 0.51548271, 0.74962469, 0.5446266 ,\n",
       "         0.48451732, 0.75692066, 0.76057367, 0.76606816, 0.77882864,\n",
       "         0.51548271, 0.76788968, 0.58652096, 0.51548271, 0.77703718,\n",
       "         0.76060371, 0.77336417, 0.75324766, 0.48451732, 0.74224865,\n",
       "         0.51366122, 0.51548271, 0.64725073, 0.72028063, 0.76785964,\n",
       "         0.76968114, 0.51548271, 0.75505914, 0.48451732, 0.48451732,\n",
       "         0.74408015, 0.7368442 , 0.77150263, 0.77705717, 0.48451732,\n",
       "         0.76974118, 0.52276869, 0.48451732, 0.7550992 , 0.76602813,\n",
       "         0.76789967, 0.78249164, 0.4863388 , 0.69653118, 0.52276869,\n",
       "         0.51548271, 0.72221222, 0.68203926, 0.76604815, 0.7551192 ,\n",
       "         0.48451732, 0.75507915, 0.55919855, 0.48451732, 0.70751015,\n",
       "         0.74586161, 0.76786967, 0.76606816, 0.52641166, 0.76426669,\n",
       "         0.57559199, 0.51548271, 0.75690067, 0.76057367, 0.7897676 ,\n",
       "         0.78615465]),\n",
       "  'std_test_score': array([0.02235071, 0.03532253, 0.03251079, 0.02235071, 0.0225752 ,\n",
       "         0.02028304, 0.02858819, 0.01795482, 0.02235071, 0.03943249,\n",
       "         0.1018501 , 0.02235071, 0.01991783, 0.02659764, 0.02002754,\n",
       "         0.02857572, 0.02235071, 0.03118001, 0.02235071, 0.02235071,\n",
       "         0.02057912, 0.01890847, 0.02242679, 0.04040903, 0.02235071,\n",
       "         0.03354299, 0.02487962, 0.02235071, 0.02916491, 0.03765653,\n",
       "         0.00873561, 0.03946074, 0.02235071, 0.03354299, 0.06327078,\n",
       "         0.02235071, 0.03091974, 0.02400364, 0.02778379, 0.01519439,\n",
       "         0.02235071, 0.02560392, 0.12244131, 0.02235071, 0.02817161,\n",
       "         0.035794  , 0.02938403, 0.01885225, 0.02235071, 0.02783222,\n",
       "         0.01983389, 0.02235071, 0.05191832, 0.01635981, 0.01377849,\n",
       "         0.01291107, 0.02235071, 0.01227128, 0.02235071, 0.02235071,\n",
       "         0.00866723, 0.04205219, 0.01403814, 0.03583612, 0.02235071,\n",
       "         0.03431837, 0.03251079, 0.02235071, 0.02811571, 0.01522451,\n",
       "         0.03116682, 0.02257019, 0.01983391, 0.00483296, 0.03251079,\n",
       "         0.02235071, 0.05041971, 0.05977715, 0.02414139, 0.04454918,\n",
       "         0.02235071, 0.0241179 , 0.08383948, 0.02235071, 0.02532345,\n",
       "         0.03934454, 0.02504143, 0.02919666, 0.03762016, 0.04040903,\n",
       "         0.10699729, 0.02235071, 0.02502171, 0.02639949, 0.01361218,\n",
       "         0.02189411]),\n",
       "  'rank_test_score': array([71, 33, 67, 85, 47, 51, 11, 18, 85, 39, 63, 71, 31, 16, 36, 20, 85,\n",
       "         10, 85, 71,  4,  9,  1, 29, 71, 45, 70, 71, 58, 54, 13, 24, 71, 45,\n",
       "         65, 85, 37, 34, 25,  6, 71, 20, 61, 71,  8, 32, 12, 44, 85, 50, 83,\n",
       "         71, 60, 55, 23, 17, 71, 43, 85, 85, 49, 52, 13,  7, 85, 15, 67, 85,\n",
       "         41, 28, 19,  5, 84, 57, 67, 71, 53, 59, 27, 40, 85, 42, 64, 85, 56,\n",
       "         48, 22, 25, 66, 29, 62, 71, 38, 34,  2,  3], dtype=int32)})"
      ]
     },
     "execution_count": 54,
     "metadata": {},
     "output_type": "execute_result"
    }
   ],
   "source": [
    "grid_result.best_score_, grid_result.best_params_, grid_result.cv_results_"
   ]
  },
  {
   "cell_type": "code",
   "execution_count": 55,
   "metadata": {},
   "outputs": [
    {
     "name": "stdout",
     "output_type": "stream",
     "text": [
      "WARNING:tensorflow:From /home/chienle/DS/anaconda3/envs/python3_TF2/lib/python3.8/site-packages/tensorflow/python/keras/wrappers/scikit_learn.py:241: Sequential.predict_classes (from tensorflow.python.keras.engine.sequential) is deprecated and will be removed after 2021-01-01.\n",
      "Instructions for updating:\n",
      "Please use instead:* `np.argmax(model.predict(x), axis=-1)`,   if your model does multi-class classification   (e.g. if it uses a `softmax` last-layer activation).* `(model.predict(x) > 0.5).astype(\"int32\")`,   if your model does binary classification   (e.g. if it uses a `sigmoid` last-layer activation).\n",
      "6/6 - 0s\n"
     ]
    }
   ],
   "source": [
    "result_CV = grid_result.predict(test_input)"
   ]
  },
  {
   "cell_type": "code",
   "execution_count": 56,
   "metadata": {},
   "outputs": [],
   "source": [
    "result = model.predict_classes(test_input)"
   ]
  },
  {
   "cell_type": "code",
   "execution_count": 57,
   "metadata": {},
   "outputs": [],
   "source": [
    "submission = pd.DataFrame({'PassengerId':test['PassengerId'], 'Survived' : result_CV})"
   ]
  },
  {
   "cell_type": "code",
   "execution_count": 58,
   "metadata": {},
   "outputs": [
    {
     "data": {
      "text/html": [
       "<div>\n",
       "<style scoped>\n",
       "    .dataframe tbody tr th:only-of-type {\n",
       "        vertical-align: middle;\n",
       "    }\n",
       "\n",
       "    .dataframe tbody tr th {\n",
       "        vertical-align: top;\n",
       "    }\n",
       "\n",
       "    .dataframe thead th {\n",
       "        text-align: right;\n",
       "    }\n",
       "</style>\n",
       "<table border=\"1\" class=\"dataframe\">\n",
       "  <thead>\n",
       "    <tr style=\"text-align: right;\">\n",
       "      <th></th>\n",
       "      <th>PassengerId</th>\n",
       "      <th>Survived</th>\n",
       "    </tr>\n",
       "  </thead>\n",
       "  <tbody>\n",
       "    <tr>\n",
       "      <th>0</th>\n",
       "      <td>892</td>\n",
       "      <td>0</td>\n",
       "    </tr>\n",
       "    <tr>\n",
       "      <th>1</th>\n",
       "      <td>893</td>\n",
       "      <td>1</td>\n",
       "    </tr>\n",
       "    <tr>\n",
       "      <th>2</th>\n",
       "      <td>894</td>\n",
       "      <td>0</td>\n",
       "    </tr>\n",
       "    <tr>\n",
       "      <th>3</th>\n",
       "      <td>895</td>\n",
       "      <td>0</td>\n",
       "    </tr>\n",
       "    <tr>\n",
       "      <th>4</th>\n",
       "      <td>896</td>\n",
       "      <td>1</td>\n",
       "    </tr>\n",
       "    <tr>\n",
       "      <th>...</th>\n",
       "      <td>...</td>\n",
       "      <td>...</td>\n",
       "    </tr>\n",
       "    <tr>\n",
       "      <th>413</th>\n",
       "      <td>1305</td>\n",
       "      <td>0</td>\n",
       "    </tr>\n",
       "    <tr>\n",
       "      <th>414</th>\n",
       "      <td>1306</td>\n",
       "      <td>1</td>\n",
       "    </tr>\n",
       "    <tr>\n",
       "      <th>415</th>\n",
       "      <td>1307</td>\n",
       "      <td>0</td>\n",
       "    </tr>\n",
       "    <tr>\n",
       "      <th>416</th>\n",
       "      <td>1308</td>\n",
       "      <td>0</td>\n",
       "    </tr>\n",
       "    <tr>\n",
       "      <th>417</th>\n",
       "      <td>1309</td>\n",
       "      <td>0</td>\n",
       "    </tr>\n",
       "  </tbody>\n",
       "</table>\n",
       "<p>418 rows × 2 columns</p>\n",
       "</div>"
      ],
      "text/plain": [
       "     PassengerId  Survived\n",
       "0            892         0\n",
       "1            893         1\n",
       "2            894         0\n",
       "3            895         0\n",
       "4            896         1\n",
       "..           ...       ...\n",
       "413         1305         0\n",
       "414         1306         1\n",
       "415         1307         0\n",
       "416         1308         0\n",
       "417         1309         0\n",
       "\n",
       "[418 rows x 2 columns]"
      ]
     },
     "execution_count": 58,
     "metadata": {},
     "output_type": "execute_result"
    }
   ],
   "source": [
    "submission"
   ]
  },
  {
   "cell_type": "code",
   "execution_count": 59,
   "metadata": {},
   "outputs": [],
   "source": [
    "submission.to_csv('submission.csv', index = False)"
   ]
  },
  {
   "cell_type": "code",
   "execution_count": 60,
   "metadata": {},
   "outputs": [
    {
     "data": {
      "text/plain": [
       "0    215\n",
       "1    203\n",
       "Name: Survived, dtype: int64"
      ]
     },
     "execution_count": 60,
     "metadata": {},
     "output_type": "execute_result"
    }
   ],
   "source": [
    "submission['Survived'].value_counts()"
   ]
  },
  {
   "cell_type": "code",
   "execution_count": 61,
   "metadata": {},
   "outputs": [
    {
     "name": "stdout",
     "output_type": "stream",
     "text": [
      "6/6 - 0s\n"
     ]
    },
    {
     "data": {
      "text/plain": [
       "array([0, 1, 0, 0, 1, 0, 1, 1, 1, 0, 0, 1, 1, 0, 1, 1, 0, 0, 0, 1, 1, 0,\n",
       "       1, 1, 1, 0, 1, 0, 1, 0, 0, 1, 0, 0, 1, 0, 1, 1, 0, 0, 0, 1, 0, 1,\n",
       "       1, 0, 1, 0, 1, 1, 1, 1, 1, 1, 1, 1, 0, 0, 0, 1, 0, 0, 0, 1, 1, 1,\n",
       "       1, 0, 1, 1, 1, 0, 0, 1, 1, 0, 0, 1, 0, 1, 0, 0, 1, 0, 0, 0, 1, 1,\n",
       "       1, 1, 1, 0, 1, 0, 1, 0, 0, 0, 1, 0, 1, 0, 0, 0, 1, 0, 0, 0, 0, 0,\n",
       "       0, 1, 1, 1, 1, 0, 0, 1, 1, 1, 1, 0, 1, 0, 0, 1, 0, 1, 1, 0, 0, 1,\n",
       "       0, 0, 0, 0, 0, 0, 1, 0, 1, 1, 0, 0, 1, 0, 0, 0, 1, 1, 1, 0, 0, 1,\n",
       "       1, 0, 1, 1, 1, 1, 1, 0, 1, 0, 1, 1, 1, 0, 1, 1, 0, 0, 0, 0, 0, 1,\n",
       "       1, 1, 1, 0, 0, 1, 1, 0, 1, 0, 1, 0, 0, 0, 0, 1, 0, 0, 1, 0, 1, 1,\n",
       "       0, 1, 1, 1, 1, 1, 0, 1, 1, 0, 1, 0, 0, 0, 0, 0, 0, 1, 1, 0, 1, 0,\n",
       "       1, 0, 1, 0, 1, 1, 0, 1, 0, 0, 0, 1, 0, 0, 1, 0, 0, 0, 1, 1, 1, 1,\n",
       "       0, 0, 1, 0, 1, 0, 1, 1, 1, 0, 1, 0, 0, 0, 0, 0, 1, 0, 0, 0, 1, 1,\n",
       "       0, 0, 0, 0, 1, 0, 1, 0, 1, 1, 0, 1, 0, 0, 0, 0, 1, 1, 1, 1, 1, 0,\n",
       "       0, 1, 0, 0, 0, 1, 0, 1, 0, 1, 1, 0, 0, 0, 0, 1, 0, 0, 1, 1, 0, 0,\n",
       "       0, 1, 0, 0, 0, 1, 1, 1, 0, 0, 0, 1, 0, 0, 0, 1, 1, 0, 1, 1, 0, 0,\n",
       "       1, 1, 0, 1, 0, 1, 0, 0, 0, 1, 0, 0, 0, 1, 1, 1, 0, 1, 0, 1, 1, 0,\n",
       "       0, 0, 0, 1, 1, 0, 0, 1, 0, 1, 1, 0, 1, 0, 0, 1, 1, 1, 0, 1, 0, 1,\n",
       "       1, 1, 1, 0, 0, 1, 0, 0, 1, 1, 0, 1, 0, 0, 0, 1, 1, 1, 1, 1, 0, 1,\n",
       "       0, 1, 0, 0, 1, 0, 1, 1, 1, 0, 0, 0, 1, 1, 1, 1, 0, 0, 1, 0, 0, 0])"
      ]
     },
     "execution_count": 61,
     "metadata": {},
     "output_type": "execute_result"
    }
   ],
   "source": [
    "grid_result.predict(test_input)"
   ]
  },
  {
   "cell_type": "code",
   "execution_count": null,
   "metadata": {},
   "outputs": [],
   "source": []
  }
 ],
 "metadata": {
  "kernelspec": {
   "display_name": "python3_TF2",
   "language": "python",
   "name": "python3_tf2"
  },
  "language_info": {
   "codemirror_mode": {
    "name": "ipython",
    "version": 3
   },
   "file_extension": ".py",
   "mimetype": "text/x-python",
   "name": "python",
   "nbconvert_exporter": "python",
   "pygments_lexer": "ipython3",
   "version": "3.8.3"
  }
 },
 "nbformat": 4,
 "nbformat_minor": 4
}
